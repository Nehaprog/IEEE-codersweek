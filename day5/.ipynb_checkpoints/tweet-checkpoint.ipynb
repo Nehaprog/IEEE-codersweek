{
 "cells": [
  {
   "cell_type": "code",
   "execution_count": 1,
   "metadata": {},
   "outputs": [],
   "source": [
    "import os\n",
    "import tweepy as tw\n",
    "import pandas as pd\n",
    "import numpy as np\n",
    "import matplotlib.pyplot as plt"
   ]
  },
  {
   "cell_type": "markdown",
   "metadata": {},
   "source": [
    "scrapping"
   ]
  },
  {
   "cell_type": "code",
   "execution_count": 2,
   "metadata": {},
   "outputs": [],
   "source": [
    "consumer_key = \"H1HAPkY6BsUBotSMtizThA7NP\" \n",
    "consumer_secret = \"6HMb84I01d4vCa9h7BpPtU79z3sk0vYVZfPH8R9ZjUjpGje8QJ\"\n",
    "access_key = \"1269208732174626817-5Hfcb4CTMzVRJsSTa3cRtJm7ovC3Td\"\n",
    "access_secret = \"xDLhzGKiVG3YWyvz8E5Rz6nChnC6XtpbotJoN8ftwVV4Q\""
   ]
  },
  {
   "cell_type": "code",
   "execution_count": 3,
   "metadata": {},
   "outputs": [],
   "source": [
    "auth = tw.OAuthHandler(consumer_key, consumer_secret)\n",
    "auth.set_access_token(access_key, access_secret)\n",
    "api = tw.API(auth, wait_on_rate_limit=True)\n",
    "\n",
    "\n"
   ]
  },
  {
   "cell_type": "code",
   "execution_count": 4,
   "metadata": {},
   "outputs": [
    {
     "name": "stdout",
     "output_type": "stream",
     "text": [
      "RT @ThatTimWalker: Let’s never forget what a miserable hate-filled racist Islamophobic homophobic misogynistic bastard with contempt for wo…\n",
      "@washingtonpost Trump has succeeded in doing something no other sitting president of this country has ever done. He… https://t.co/6tmmtrFFrk\n",
      "I hate hungry ass people who always looking for food in this office without putting down!!!\n",
      "RT @itsssTeee: I hate when you get all the symptoms but it takes forever to actually come\n",
      "RT @zilbelladure: @RudyGiuliani Those Dems States sky rock crime rates are the problem before the incident happened to fuel the hate! the c…\n",
      "I got told I’m not really back last night. I just talked about how much I hate that 😤\n",
      "RT @Scoulios: White people hate color so much they took it out of pictures.\n",
      "RT @TheOnlyDetox: I hate @willam 🤣🤣🤣 This is AMAZING @DerrickBarry https://t.co/COKB900lXR\n",
      "RT @ughsumi: the fact that even EX-employee said not to engage with hateful posts and try not to trend any hate bc they boys see it and che…\n",
      "RT @ztothek: Sunmi talk bout Twice receiving hate comment with Onces 😭 https://t.co/1WhAikAwni\n"
     ]
    }
   ],
   "source": [
    "tweets = tw.Cursor(api.search,\n",
    "              q=\"hate\",\n",
    "              lang=\"en\",\n",
    "              since=\"2020-05-1\").items(10)\n",
    "\n",
    "\n",
    "for tweet in tweets:\n",
    "    print(tweet.text)\n",
    "  \n",
    "    \n",
    "    "
   ]
  },
  {
   "cell_type": "code",
   "execution_count": 5,
   "metadata": {},
   "outputs": [
    {
     "data": {
      "text/html": [
       "<div>\n",
       "<style scoped>\n",
       "    .dataframe tbody tr th:only-of-type {\n",
       "        vertical-align: middle;\n",
       "    }\n",
       "\n",
       "    .dataframe tbody tr th {\n",
       "        vertical-align: top;\n",
       "    }\n",
       "\n",
       "    .dataframe thead th {\n",
       "        text-align: right;\n",
       "    }\n",
       "</style>\n",
       "<table border=\"1\" class=\"dataframe\">\n",
       "  <thead>\n",
       "    <tr style=\"text-align: right;\">\n",
       "      <th></th>\n",
       "      <th>tweet</th>\n",
       "    </tr>\n",
       "  </thead>\n",
       "  <tbody>\n",
       "    <tr>\n",
       "      <th>0</th>\n",
       "      <td>RT @ThatTimWalker: Let’s never forget what a m...</td>\n",
       "    </tr>\n",
       "    <tr>\n",
       "      <th>1</th>\n",
       "      <td>@washingtonpost Trump has succeeded in doing s...</td>\n",
       "    </tr>\n",
       "    <tr>\n",
       "      <th>2</th>\n",
       "      <td>I hate hungry ass people who always looking fo...</td>\n",
       "    </tr>\n",
       "    <tr>\n",
       "      <th>3</th>\n",
       "      <td>RT @itsssTeee: I hate when you get all the sym...</td>\n",
       "    </tr>\n",
       "    <tr>\n",
       "      <th>4</th>\n",
       "      <td>RT @zilbelladure: @RudyGiuliani Those Dems Sta...</td>\n",
       "    </tr>\n",
       "    <tr>\n",
       "      <th>...</th>\n",
       "      <td>...</td>\n",
       "    </tr>\n",
       "    <tr>\n",
       "      <th>495</th>\n",
       "      <td>RT @DangItLee: A lot of folks don’t know how t...</td>\n",
       "    </tr>\n",
       "    <tr>\n",
       "      <th>496</th>\n",
       "      <td>RT @Aintshitjunior: i hate humans bro .. i sho...</td>\n",
       "    </tr>\n",
       "    <tr>\n",
       "      <th>497</th>\n",
       "      <td>Those who hate; hate good people.\\n\\nThose who...</td>\n",
       "    </tr>\n",
       "    <tr>\n",
       "      <th>498</th>\n",
       "      <td>RT @gareththomas14: A dear friend who spends h...</td>\n",
       "    </tr>\n",
       "    <tr>\n",
       "      <th>499</th>\n",
       "      <td>RT @Aintshitjunior: i hate humans bro .. i sho...</td>\n",
       "    </tr>\n",
       "  </tbody>\n",
       "</table>\n",
       "<p>500 rows × 1 columns</p>\n",
       "</div>"
      ],
      "text/plain": [
       "                                                 tweet\n",
       "0    RT @ThatTimWalker: Let’s never forget what a m...\n",
       "1    @washingtonpost Trump has succeeded in doing s...\n",
       "2    I hate hungry ass people who always looking fo...\n",
       "3    RT @itsssTeee: I hate when you get all the sym...\n",
       "4    RT @zilbelladure: @RudyGiuliani Those Dems Sta...\n",
       "..                                                 ...\n",
       "495  RT @DangItLee: A lot of folks don’t know how t...\n",
       "496  RT @Aintshitjunior: i hate humans bro .. i sho...\n",
       "497  Those who hate; hate good people.\\n\\nThose who...\n",
       "498  RT @gareththomas14: A dear friend who spends h...\n",
       "499  RT @Aintshitjunior: i hate humans bro .. i sho...\n",
       "\n",
       "[500 rows x 1 columns]"
      ]
     },
     "execution_count": 5,
     "metadata": {},
     "output_type": "execute_result"
    }
   ],
   "source": [
    "tweets = tw.Cursor(api.search,\n",
    "              q=\"hate\",\n",
    "              lang=\"en\",\n",
    "              since=\"2020-05-1\").items(500)\n",
    "info = [[tweet.text] for tweet in tweets]\n",
    "\n",
    "tweet_text = pd.DataFrame(data=info, \n",
    "                    columns=[\"tweet\"])\n",
    "tweet_text"
   ]
  },
  {
   "cell_type": "code",
   "execution_count": 6,
   "metadata": {},
   "outputs": [],
   "source": [
    "import re\n",
    "import nltk"
   ]
  },
  {
   "cell_type": "markdown",
   "metadata": {},
   "source": [
    "cleaning text"
   ]
  },
  {
   "cell_type": "code",
   "execution_count": 7,
   "metadata": {},
   "outputs": [],
   "source": [
    "def remove(input_txt, pattern):                                          \n",
    "    r = re.findall(pattern, input_txt)\n",
    "    for i in r:\n",
    "        input_txt = re.sub(i, '', input_txt)        \n",
    "    return input_txt\n",
    "def clean_tweets(lst):\n",
    "    lst = np.vectorize(remove)(lst, \"\\r\")                                  \n",
    "    lst = np.vectorize(remove)(lst, \"\\n\")\n",
    "    lst = np.vectorize(remove)(lst, \"RT @[\\w]*:\")                        \n",
    "    lst = np.vectorize(remove)(lst, \"@[\\w]*\")                             \n",
    "    lst = np.vectorize(remove)(lst, \"https?://[A-Za-z0-9./]*\")           \n",
    "    return lst"
   ]
  },
  {
   "cell_type": "code",
   "execution_count": 8,
   "metadata": {},
   "outputs": [],
   "source": [
    "tweet_text['clean']= clean_tweets(tweet_text['tweet'])   #Cleaned Tweets are kept in separate coloumn clean"
   ]
  },
  {
   "cell_type": "code",
   "execution_count": 9,
   "metadata": {},
   "outputs": [
    {
     "data": {
      "text/html": [
       "<div>\n",
       "<style scoped>\n",
       "    .dataframe tbody tr th:only-of-type {\n",
       "        vertical-align: middle;\n",
       "    }\n",
       "\n",
       "    .dataframe tbody tr th {\n",
       "        vertical-align: top;\n",
       "    }\n",
       "\n",
       "    .dataframe thead th {\n",
       "        text-align: right;\n",
       "    }\n",
       "</style>\n",
       "<table border=\"1\" class=\"dataframe\">\n",
       "  <thead>\n",
       "    <tr style=\"text-align: right;\">\n",
       "      <th></th>\n",
       "      <th>tweet</th>\n",
       "      <th>clean</th>\n",
       "    </tr>\n",
       "  </thead>\n",
       "  <tbody>\n",
       "    <tr>\n",
       "      <th>0</th>\n",
       "      <td>RT @ThatTimWalker: Let’s never forget what a m...</td>\n",
       "      <td>Let’s never forget what a miserable hate-fill...</td>\n",
       "    </tr>\n",
       "    <tr>\n",
       "      <th>1</th>\n",
       "      <td>@washingtonpost Trump has succeeded in doing s...</td>\n",
       "      <td>Trump has succeeded in doing something no oth...</td>\n",
       "    </tr>\n",
       "    <tr>\n",
       "      <th>2</th>\n",
       "      <td>I hate hungry ass people who always looking fo...</td>\n",
       "      <td>I hate hungry ass people who always looking fo...</td>\n",
       "    </tr>\n",
       "    <tr>\n",
       "      <th>3</th>\n",
       "      <td>RT @itsssTeee: I hate when you get all the sym...</td>\n",
       "      <td>I hate when you get all the symptoms but it t...</td>\n",
       "    </tr>\n",
       "    <tr>\n",
       "      <th>4</th>\n",
       "      <td>RT @zilbelladure: @RudyGiuliani Those Dems Sta...</td>\n",
       "      <td>Those Dems States sky rock crime rates are t...</td>\n",
       "    </tr>\n",
       "  </tbody>\n",
       "</table>\n",
       "</div>"
      ],
      "text/plain": [
       "                                               tweet  \\\n",
       "0  RT @ThatTimWalker: Let’s never forget what a m...   \n",
       "1  @washingtonpost Trump has succeeded in doing s...   \n",
       "2  I hate hungry ass people who always looking fo...   \n",
       "3  RT @itsssTeee: I hate when you get all the sym...   \n",
       "4  RT @zilbelladure: @RudyGiuliani Those Dems Sta...   \n",
       "\n",
       "                                               clean  \n",
       "0   Let’s never forget what a miserable hate-fill...  \n",
       "1   Trump has succeeded in doing something no oth...  \n",
       "2  I hate hungry ass people who always looking fo...  \n",
       "3   I hate when you get all the symptoms but it t...  \n",
       "4    Those Dems States sky rock crime rates are t...  "
      ]
     },
     "execution_count": 9,
     "metadata": {},
     "output_type": "execute_result"
    }
   ],
   "source": [
    "tweet_text.head()"
   ]
  },
  {
   "cell_type": "code",
   "execution_count": 10,
   "metadata": {},
   "outputs": [
    {
     "data": {
      "text/plain": [
       "0      [Let, ’, s, never, forget, what, a, miserable,...\n",
       "1      [Trump, has, succeeded, in, doing, something, ...\n",
       "2      [I, hate, hungry, ass, people, who, always, lo...\n",
       "3      [I, hate, when, you, get, all, the, symptoms, ...\n",
       "4      [Those, Dems, States, sky, rock, crime, rates,...\n",
       "                             ...                        \n",
       "495    [A, lot, of, folks, don, ’, t, know, how, to, ...\n",
       "496    [i, hate, humans, bro, .., i, shouldve, been, ...\n",
       "497    [Those, who, hate, ;, hate, good, people.Those...\n",
       "498    [A, dear, friend, who, spends, his, life, figh...\n",
       "499    [i, hate, humans, bro, .., i, shouldve, been, ...\n",
       "Name: clean, Length: 500, dtype: object"
      ]
     },
     "execution_count": 10,
     "metadata": {},
     "output_type": "execute_result"
    }
   ],
   "source": [
    "from nltk.tokenize import TweetTokenizer\n",
    "tt = TweetTokenizer()\n",
    "tweet_text['clean'].apply(tt.tokenize)"
   ]
  },
  {
   "cell_type": "code",
   "execution_count": 11,
   "metadata": {},
   "outputs": [],
   "source": [
    "info1=tweet_text['clean'].apply(tt.tokenize)"
   ]
  },
  {
   "cell_type": "code",
   "execution_count": 12,
   "metadata": {},
   "outputs": [
    {
     "data": {
      "text/html": [
       "<div>\n",
       "<style scoped>\n",
       "    .dataframe tbody tr th:only-of-type {\n",
       "        vertical-align: middle;\n",
       "    }\n",
       "\n",
       "    .dataframe tbody tr th {\n",
       "        vertical-align: top;\n",
       "    }\n",
       "\n",
       "    .dataframe thead th {\n",
       "        text-align: right;\n",
       "    }\n",
       "</style>\n",
       "<table border=\"1\" class=\"dataframe\">\n",
       "  <thead>\n",
       "    <tr style=\"text-align: right;\">\n",
       "      <th></th>\n",
       "      <th>clean</th>\n",
       "    </tr>\n",
       "  </thead>\n",
       "  <tbody>\n",
       "    <tr>\n",
       "      <th>0</th>\n",
       "      <td>[Let, ’, s, never, forget, what, a, miserable,...</td>\n",
       "    </tr>\n",
       "    <tr>\n",
       "      <th>1</th>\n",
       "      <td>[Trump, has, succeeded, in, doing, something, ...</td>\n",
       "    </tr>\n",
       "    <tr>\n",
       "      <th>2</th>\n",
       "      <td>[I, hate, hungry, ass, people, who, always, lo...</td>\n",
       "    </tr>\n",
       "    <tr>\n",
       "      <th>3</th>\n",
       "      <td>[I, hate, when, you, get, all, the, symptoms, ...</td>\n",
       "    </tr>\n",
       "    <tr>\n",
       "      <th>4</th>\n",
       "      <td>[Those, Dems, States, sky, rock, crime, rates,...</td>\n",
       "    </tr>\n",
       "    <tr>\n",
       "      <th>...</th>\n",
       "      <td>...</td>\n",
       "    </tr>\n",
       "    <tr>\n",
       "      <th>495</th>\n",
       "      <td>[A, lot, of, folks, don, ’, t, know, how, to, ...</td>\n",
       "    </tr>\n",
       "    <tr>\n",
       "      <th>496</th>\n",
       "      <td>[i, hate, humans, bro, .., i, shouldve, been, ...</td>\n",
       "    </tr>\n",
       "    <tr>\n",
       "      <th>497</th>\n",
       "      <td>[Those, who, hate, ;, hate, good, people.Those...</td>\n",
       "    </tr>\n",
       "    <tr>\n",
       "      <th>498</th>\n",
       "      <td>[A, dear, friend, who, spends, his, life, figh...</td>\n",
       "    </tr>\n",
       "    <tr>\n",
       "      <th>499</th>\n",
       "      <td>[i, hate, humans, bro, .., i, shouldve, been, ...</td>\n",
       "    </tr>\n",
       "  </tbody>\n",
       "</table>\n",
       "<p>500 rows × 1 columns</p>\n",
       "</div>"
      ],
      "text/plain": [
       "                                                 clean\n",
       "0    [Let, ’, s, never, forget, what, a, miserable,...\n",
       "1    [Trump, has, succeeded, in, doing, something, ...\n",
       "2    [I, hate, hungry, ass, people, who, always, lo...\n",
       "3    [I, hate, when, you, get, all, the, symptoms, ...\n",
       "4    [Those, Dems, States, sky, rock, crime, rates,...\n",
       "..                                                 ...\n",
       "495  [A, lot, of, folks, don, ’, t, know, how, to, ...\n",
       "496  [i, hate, humans, bro, .., i, shouldve, been, ...\n",
       "497  [Those, who, hate, ;, hate, good, people.Those...\n",
       "498  [A, dear, friend, who, spends, his, life, figh...\n",
       "499  [i, hate, humans, bro, .., i, shouldve, been, ...\n",
       "\n",
       "[500 rows x 1 columns]"
      ]
     },
     "execution_count": 12,
     "metadata": {},
     "output_type": "execute_result"
    }
   ],
   "source": [
    "df=pd.DataFrame(data=info1,columns=[\"clean\"])\n",
    "df"
   ]
  },
  {
   "cell_type": "code",
   "execution_count": 14,
   "metadata": {},
   "outputs": [],
   "source": [
    "from textblob import TextBlob"
   ]
  },
  {
   "cell_type": "code",
   "execution_count": 15,
   "metadata": {},
   "outputs": [],
   "source": [
    "from nltk.stem.wordnet import WordNetLemmatizer\n",
    "lemmatizing = WordNetLemmatizer()"
   ]
  },
  {
   "cell_type": "code",
   "execution_count": 16,
   "metadata": {},
   "outputs": [
    {
     "name": "stderr",
     "output_type": "stream",
     "text": [
      "[nltk_data] Downloading package wordnet to C:\\Users\\Neha\n",
      "[nltk_data]     Shinkre\\AppData\\Roaming\\nltk_data...\n",
      "[nltk_data]   Package wordnet is already up-to-date!\n"
     ]
    },
    {
     "data": {
      "text/plain": [
       "0    Let ’ s never forget what a miserable hate-fil...\n",
       "1    Trump ha succeeded in doing something no other...\n",
       "2    I hate hungry as people who always looking for...\n",
       "3    I hate when you get all the symptom but it tak...\n",
       "4    Those Dems States sky rock crime rate are the ...\n",
       "5    I got told I ’ m not really back last night . ...\n",
       "6    White people hate color so much they took it o...\n",
       "7                         I hate 🤣 🤣 🤣 This is AMAZING\n",
       "8    the fact that even EX-employee said not to eng...\n",
       "9    Sunmi talk bout Twice receiving hate comment w...\n",
       "Name: clean, dtype: object"
      ]
     },
     "execution_count": 16,
     "metadata": {},
     "output_type": "execute_result"
    }
   ],
   "source": [
    "nltk.download('wordnet')                                                                   #words to base form\n",
    "df['clean'] = df['clean'].apply(lambda x: ' '.join([lemmatizing.lemmatize(i) for i in x]))\n",
    "df['clean'].head(10)"
   ]
  },
  {
   "cell_type": "code",
   "execution_count": null,
   "metadata": {},
   "outputs": [],
   "source": [
    "from nltk.sentiment.vader import SentimentIntensityAnalyzer     #try\n",
    "\n",
    "nltk.download('vader_lexicon')\n",
    "sid = SentimentIntensityAnalyzer()\n",
    "for sentence in tweet_text[\"clean\"]:\n",
    "    print(sentence)\n",
    "    ss = sid.polarity_scores(sentence)\n",
    "    for k in ss:\n",
    "        print('{0}: {1}, '.format(k, ss[k]), end='') \n",
    "    print()\n"
   ]
  },
  {
   "cell_type": "code",
   "execution_count": 17,
   "metadata": {},
   "outputs": [],
   "source": [
    "from textblob import TextBlob                                               #polarrity -:negative +:positive &subjectivity\n",
    "polarity = lambda x: TextBlob(x).sentiment.polarity\n",
    "subjectivity = lambda x: TextBlob(x).sentiment.subjectivity\n",
    "df['polarity'] = df['clean'].apply(polarity)\n",
    "df['subjectivity'] = df['clean'].apply(subjectivity)\n"
   ]
  },
  {
   "cell_type": "code",
   "execution_count": 18,
   "metadata": {},
   "outputs": [
    {
     "data": {
      "text/html": [
       "<div>\n",
       "<style scoped>\n",
       "    .dataframe tbody tr th:only-of-type {\n",
       "        vertical-align: middle;\n",
       "    }\n",
       "\n",
       "    .dataframe tbody tr th {\n",
       "        vertical-align: top;\n",
       "    }\n",
       "\n",
       "    .dataframe thead th {\n",
       "        text-align: right;\n",
       "    }\n",
       "</style>\n",
       "<table border=\"1\" class=\"dataframe\">\n",
       "  <thead>\n",
       "    <tr style=\"text-align: right;\">\n",
       "      <th></th>\n",
       "      <th>clean</th>\n",
       "      <th>polarity</th>\n",
       "      <th>subjectivity</th>\n",
       "    </tr>\n",
       "  </thead>\n",
       "  <tbody>\n",
       "    <tr>\n",
       "      <th>0</th>\n",
       "      <td>Let ’ s never forget what a miserable hate-fil...</td>\n",
       "      <td>-1.000000</td>\n",
       "      <td>1.000000</td>\n",
       "    </tr>\n",
       "    <tr>\n",
       "      <th>1</th>\n",
       "      <td>Trump ha succeeded in doing something no other...</td>\n",
       "      <td>0.062500</td>\n",
       "      <td>0.375000</td>\n",
       "    </tr>\n",
       "    <tr>\n",
       "      <th>2</th>\n",
       "      <td>I hate hungry as people who always looking for...</td>\n",
       "      <td>-0.551910</td>\n",
       "      <td>0.594444</td>\n",
       "    </tr>\n",
       "    <tr>\n",
       "      <th>3</th>\n",
       "      <td>I hate when you get all the symptom but it tak...</td>\n",
       "      <td>-0.400000</td>\n",
       "      <td>0.500000</td>\n",
       "    </tr>\n",
       "    <tr>\n",
       "      <th>4</th>\n",
       "      <td>Those Dems States sky rock crime rate are the ...</td>\n",
       "      <td>-1.000000</td>\n",
       "      <td>0.900000</td>\n",
       "    </tr>\n",
       "    <tr>\n",
       "      <th>...</th>\n",
       "      <td>...</td>\n",
       "      <td>...</td>\n",
       "      <td>...</td>\n",
       "    </tr>\n",
       "    <tr>\n",
       "      <th>495</th>\n",
       "      <td>A lot of folk don ’ t know how to simply think...</td>\n",
       "      <td>-0.329167</td>\n",
       "      <td>0.585714</td>\n",
       "    </tr>\n",
       "    <tr>\n",
       "      <th>496</th>\n",
       "      <td>i hate human bro .. i shouldve been a bike or ...</td>\n",
       "      <td>-0.333333</td>\n",
       "      <td>0.600000</td>\n",
       "    </tr>\n",
       "    <tr>\n",
       "      <th>497</th>\n",
       "      <td>Those who hate ; hate good people.Those who lo...</td>\n",
       "      <td>-0.242857</td>\n",
       "      <td>0.785714</td>\n",
       "    </tr>\n",
       "    <tr>\n",
       "      <th>498</th>\n",
       "      <td>A dear friend who spends his life fighting for...</td>\n",
       "      <td>-0.325000</td>\n",
       "      <td>0.325000</td>\n",
       "    </tr>\n",
       "    <tr>\n",
       "      <th>499</th>\n",
       "      <td>i hate human bro .. i shouldve been a bike or ...</td>\n",
       "      <td>-0.333333</td>\n",
       "      <td>0.600000</td>\n",
       "    </tr>\n",
       "  </tbody>\n",
       "</table>\n",
       "<p>500 rows × 3 columns</p>\n",
       "</div>"
      ],
      "text/plain": [
       "                                                 clean  polarity  subjectivity\n",
       "0    Let ’ s never forget what a miserable hate-fil... -1.000000      1.000000\n",
       "1    Trump ha succeeded in doing something no other...  0.062500      0.375000\n",
       "2    I hate hungry as people who always looking for... -0.551910      0.594444\n",
       "3    I hate when you get all the symptom but it tak... -0.400000      0.500000\n",
       "4    Those Dems States sky rock crime rate are the ... -1.000000      0.900000\n",
       "..                                                 ...       ...           ...\n",
       "495  A lot of folk don ’ t know how to simply think... -0.329167      0.585714\n",
       "496  i hate human bro .. i shouldve been a bike or ... -0.333333      0.600000\n",
       "497  Those who hate ; hate good people.Those who lo... -0.242857      0.785714\n",
       "498  A dear friend who spends his life fighting for... -0.325000      0.325000\n",
       "499  i hate human bro .. i shouldve been a bike or ... -0.333333      0.600000\n",
       "\n",
       "[500 rows x 3 columns]"
      ]
     },
     "execution_count": 18,
     "metadata": {},
     "output_type": "execute_result"
    }
   ],
   "source": [
    "df\n"
   ]
  },
  {
   "cell_type": "code",
   "execution_count": 19,
   "metadata": {},
   "outputs": [],
   "source": [
    "def ratio(x):                                                              #0 neutral 1:pos -1:neg\n",
    " if x > 0:\n",
    "   return 1\n",
    " elif x == 0:\n",
    "   return 0\n",
    " else:\n",
    "   return -1\n",
    "df['result'] = df['polarity'].apply(ratio)"
   ]
  },
  {
   "cell_type": "code",
   "execution_count": 20,
   "metadata": {},
   "outputs": [
    {
     "data": {
      "text/html": [
       "<div>\n",
       "<style scoped>\n",
       "    .dataframe tbody tr th:only-of-type {\n",
       "        vertical-align: middle;\n",
       "    }\n",
       "\n",
       "    .dataframe tbody tr th {\n",
       "        vertical-align: top;\n",
       "    }\n",
       "\n",
       "    .dataframe thead th {\n",
       "        text-align: right;\n",
       "    }\n",
       "</style>\n",
       "<table border=\"1\" class=\"dataframe\">\n",
       "  <thead>\n",
       "    <tr style=\"text-align: right;\">\n",
       "      <th></th>\n",
       "      <th>clean</th>\n",
       "      <th>polarity</th>\n",
       "      <th>subjectivity</th>\n",
       "      <th>result</th>\n",
       "    </tr>\n",
       "  </thead>\n",
       "  <tbody>\n",
       "    <tr>\n",
       "      <th>0</th>\n",
       "      <td>Let ’ s never forget what a miserable hate-fil...</td>\n",
       "      <td>-1.00000</td>\n",
       "      <td>1.000000</td>\n",
       "      <td>-1</td>\n",
       "    </tr>\n",
       "    <tr>\n",
       "      <th>1</th>\n",
       "      <td>Trump ha succeeded in doing something no other...</td>\n",
       "      <td>0.06250</td>\n",
       "      <td>0.375000</td>\n",
       "      <td>1</td>\n",
       "    </tr>\n",
       "    <tr>\n",
       "      <th>2</th>\n",
       "      <td>I hate hungry as people who always looking for...</td>\n",
       "      <td>-0.55191</td>\n",
       "      <td>0.594444</td>\n",
       "      <td>-1</td>\n",
       "    </tr>\n",
       "    <tr>\n",
       "      <th>3</th>\n",
       "      <td>I hate when you get all the symptom but it tak...</td>\n",
       "      <td>-0.40000</td>\n",
       "      <td>0.500000</td>\n",
       "      <td>-1</td>\n",
       "    </tr>\n",
       "    <tr>\n",
       "      <th>4</th>\n",
       "      <td>Those Dems States sky rock crime rate are the ...</td>\n",
       "      <td>-1.00000</td>\n",
       "      <td>0.900000</td>\n",
       "      <td>-1</td>\n",
       "    </tr>\n",
       "  </tbody>\n",
       "</table>\n",
       "</div>"
      ],
      "text/plain": [
       "                                               clean  polarity  subjectivity  \\\n",
       "0  Let ’ s never forget what a miserable hate-fil...  -1.00000      1.000000   \n",
       "1  Trump ha succeeded in doing something no other...   0.06250      0.375000   \n",
       "2  I hate hungry as people who always looking for...  -0.55191      0.594444   \n",
       "3  I hate when you get all the symptom but it tak...  -0.40000      0.500000   \n",
       "4  Those Dems States sky rock crime rate are the ...  -1.00000      0.900000   \n",
       "\n",
       "   result  \n",
       "0      -1  \n",
       "1       1  \n",
       "2      -1  \n",
       "3      -1  \n",
       "4      -1  "
      ]
     },
     "execution_count": 20,
     "metadata": {},
     "output_type": "execute_result"
    }
   ],
   "source": [
    "df.head()"
   ]
  },
  {
   "cell_type": "code",
   "execution_count": 21,
   "metadata": {},
   "outputs": [
    {
     "data": {
      "image/png": "[encoded data removed]",
      "text/plain": [
       "<Figure size 432x288 with 1 Axes>"
      ]
     },
     "metadata": {
      "needs_background": "light"
     },
     "output_type": "display_data"
    }
   ],
   "source": [
    "df['result'].value_counts().plot(kind = 'bar')\n",
    "plt.show()"
   ]
  },
  {
   "cell_type": "code",
   "execution_count": 22,
   "metadata": {},
   "outputs": [],
   "source": [
    "#0:neither 1:non-toxic -1:toxic(negative tweets)"
   ]
  }
 ],
 "metadata": {
  "kernelspec": {
   "display_name": "Python 3",
   "language": "python",
   "name": "python3"
  },
  "language_info": {
   "codemirror_mode": {
    "name": "ipython",
    "version": 3
   },
   "file_extension": ".py",
   "mimetype": "text/x-python",
   "name": "python",
   "nbconvert_exporter": "python",
   "pygments_lexer": "ipython3",
   "version": "3.8.3"
  }
 },
 "nbformat": 4,
 "nbformat_minor": 4
}
