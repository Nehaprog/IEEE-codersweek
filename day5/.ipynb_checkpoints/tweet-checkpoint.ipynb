{
 "cells": [
  {
   "cell_type": "code",
   "execution_count": 1,
   "metadata": {},
   "outputs": [],
   "source": [
    "import os\n",
    "import tweepy as tw\n",
    "import pandas as pd\n",
    "import numpy as np\n",
    "import matplotlib.pyplot as plt"
   ]
  },
  {
   "cell_type": "markdown",
   "metadata": {},
   "source": [
    "scrapping"
   ]
  },
  {
   "cell_type": "code",
   "execution_count": 2,
   "metadata": {},
   "outputs": [],
   "source": [
    "consumer_key = \"H1HAPkY6BsUBotSMtizThA7NP\" \n",
    "consumer_secret = \"6HMb84I01d4vCa9h7BpPtU79z3sk0vYVZfPH8R9ZjUjpGje8QJ\"\n",
    "access_key = \"1269208732174626817-5Hfcb4CTMzVRJsSTa3cRtJm7ovC3Td\"\n",
    "access_secret = \"xDLhzGKiVG3YWyvz8E5Rz6nChnC6XtpbotJoN8ftwVV4Q\""
   ]
  },
  {
   "cell_type": "code",
   "execution_count": 3,
   "metadata": {},
   "outputs": [],
   "source": [
    "auth = tw.OAuthHandler(consumer_key, consumer_secret)\n",
    "auth.set_access_token(access_key, access_secret)\n",
    "api = tw.API(auth, wait_on_rate_limit=True)\n",
    "\n",
    "\n"
   ]
  },
  {
   "cell_type": "code",
   "execution_count": 4,
   "metadata": {},
   "outputs": [
    {
     "name": "stdout",
     "output_type": "stream",
     "text": [
      "@LA40669826 @AgnesBun @AFP Yes I believe so! Have a good brother! Love Over Hate! 🌈\n",
      "@CocoaMochaCrml I hate Blue Bloods!\n",
      "RT @Aintshitjunior: i hate humans bro .. i shouldve been a bike or some shit\n",
      "RT @Queenemmy20: Some Titans will be saying the hate is too much on Tacha, who hate Tacha? She is loved by many, very few idiat gather them…\n",
      "@FreindTrey @MRMAN19981 @REVERSALx7 Blocked also hate this guy https://t.co/wpdDu7sV18\n",
      "RT @alpipkin: Roger Goodell is signing the death certificate of the NFL ... \n",
      "\n",
      "Americans aren't going to continue support a game being playe…\n",
      "@GangstaCardiB @FilthLiteral @girlsinrap @NICKIMINAJ Liked your own tweet again. Only problematic h*es hate on Nicki. Sit down.\n",
      "RT @Srjoshi94: #Brahmin\n",
      "\n",
      "Yes:\n",
      "I am a #Brahmin Guy and I am proud of it\n",
      "\n",
      "I am a #Brahmin &amp; I am not rich\n",
      "\n",
      "I am a #Brahmin &amp; I have to pay \n",
      "m…\n",
      "RT @elcentenayo: Hate people who park like this https://t.co/nYivtQPDkG\n",
      "RT @lilmamiii8_: I hate feeling someone switching up on me 🤧\n"
     ]
    }
   ],
   "source": [
    "tweets = tw.Cursor(api.search,\n",
    "              q=\"hate\",\n",
    "              lang=\"en\",\n",
    "              since=\"2020-05-1\").items(10)\n",
    "\n",
    "\n",
    "for tweet in tweets:\n",
    "    print(tweet.text)\n",
    "  \n",
    "    \n",
    "    "
   ]
  },
  {
   "cell_type": "code",
   "execution_count": 5,
   "metadata": {},
   "outputs": [
    {
     "data": {
      "text/html": [
       "<div>\n",
       "<style scoped>\n",
       "    .dataframe tbody tr th:only-of-type {\n",
       "        vertical-align: middle;\n",
       "    }\n",
       "\n",
       "    .dataframe tbody tr th {\n",
       "        vertical-align: top;\n",
       "    }\n",
       "\n",
       "    .dataframe thead th {\n",
       "        text-align: right;\n",
       "    }\n",
       "</style>\n",
       "<table border=\"1\" class=\"dataframe\">\n",
       "  <thead>\n",
       "    <tr style=\"text-align: right;\">\n",
       "      <th></th>\n",
       "      <th>tweet</th>\n",
       "    </tr>\n",
       "  </thead>\n",
       "  <tbody>\n",
       "    <tr>\n",
       "      <th>0</th>\n",
       "      <td>@LA40669826 @AgnesBun @AFP Yes I believe so! H...</td>\n",
       "    </tr>\n",
       "    <tr>\n",
       "      <th>1</th>\n",
       "      <td>@CocoaMochaCrml I hate Blue Bloods!</td>\n",
       "    </tr>\n",
       "    <tr>\n",
       "      <th>2</th>\n",
       "      <td>RT @Aintshitjunior: i hate humans bro .. i sho...</td>\n",
       "    </tr>\n",
       "    <tr>\n",
       "      <th>3</th>\n",
       "      <td>RT @Queenemmy20: Some Titans will be saying th...</td>\n",
       "    </tr>\n",
       "    <tr>\n",
       "      <th>4</th>\n",
       "      <td>@FreindTrey @MRMAN19981 @REVERSALx7 Blocked al...</td>\n",
       "    </tr>\n",
       "    <tr>\n",
       "      <th>...</th>\n",
       "      <td>...</td>\n",
       "    </tr>\n",
       "    <tr>\n",
       "      <th>495</th>\n",
       "      <td>Hate to be the bearer of reality but unfortuna...</td>\n",
       "    </tr>\n",
       "    <tr>\n",
       "      <th>496</th>\n",
       "      <td>RT @Vanessa_ABee: DC’s mayor doodling the word...</td>\n",
       "    </tr>\n",
       "    <tr>\n",
       "      <th>497</th>\n",
       "      <td>RT @Tettygee: Something I hate about these Yor...</td>\n",
       "    </tr>\n",
       "    <tr>\n",
       "      <th>498</th>\n",
       "      <td>RT @bIondiewasabi: white people be like “bro I...</td>\n",
       "    </tr>\n",
       "    <tr>\n",
       "      <th>499</th>\n",
       "      <td>RT @elcentenayo: Hate people who park like thi...</td>\n",
       "    </tr>\n",
       "  </tbody>\n",
       "</table>\n",
       "<p>500 rows × 1 columns</p>\n",
       "</div>"
      ],
      "text/plain": [
       "                                                 tweet\n",
       "0    @LA40669826 @AgnesBun @AFP Yes I believe so! H...\n",
       "1                  @CocoaMochaCrml I hate Blue Bloods!\n",
       "2    RT @Aintshitjunior: i hate humans bro .. i sho...\n",
       "3    RT @Queenemmy20: Some Titans will be saying th...\n",
       "4    @FreindTrey @MRMAN19981 @REVERSALx7 Blocked al...\n",
       "..                                                 ...\n",
       "495  Hate to be the bearer of reality but unfortuna...\n",
       "496  RT @Vanessa_ABee: DC’s mayor doodling the word...\n",
       "497  RT @Tettygee: Something I hate about these Yor...\n",
       "498  RT @bIondiewasabi: white people be like “bro I...\n",
       "499  RT @elcentenayo: Hate people who park like thi...\n",
       "\n",
       "[500 rows x 1 columns]"
      ]
     },
     "execution_count": 5,
     "metadata": {},
     "output_type": "execute_result"
    }
   ],
   "source": [
    "tweets = tw.Cursor(api.search,\n",
    "              q=\"hate\",\n",
    "              lang=\"en\",\n",
    "              since=\"2020-05-1\").items(500)\n",
    "info = [[tweet.text] for tweet in tweets]\n",
    "\n",
    "tweet_text = pd.DataFrame(data=info, \n",
    "                    columns=[\"tweet\"])\n",
    "tweet_text"
   ]
  },
  {
   "cell_type": "code",
   "execution_count": 6,
   "metadata": {},
   "outputs": [],
   "source": [
    "import re\n",
    "import nltk"
   ]
  },
  {
   "cell_type": "markdown",
   "metadata": {},
   "source": [
    "cleaning text"
   ]
  },
  {
   "cell_type": "code",
   "execution_count": 7,
   "metadata": {},
   "outputs": [],
   "source": [
    "def remove(input_txt, pattern):                                          \n",
    "    r = re.findall(pattern, input_txt)\n",
    "    for i in r:\n",
    "        input_txt = re.sub(i, '', input_txt)        \n",
    "    return input_txt\n",
    "def clean_tweets(lst):\n",
    "    lst = np.vectorize(remove)(lst, \"\\r\")                                  \n",
    "    lst = np.vectorize(remove)(lst, \"\\n\")\n",
    "    lst = np.vectorize(remove)(lst, \"RT @[\\w]*:\")                        \n",
    "    lst = np.vectorize(remove)(lst, \"@[\\w]*\")                             \n",
    "    lst = np.vectorize(remove)(lst, \"https?://[A-Za-z0-9./]*\")           \n",
    "    return lst"
   ]
  },
  {
   "cell_type": "code",
   "execution_count": 8,
   "metadata": {},
   "outputs": [],
   "source": [
    "tweet_text['clean']= clean_tweets(tweet_text['tweet'])   #Cleaned Tweets are kept in separate coloumn clean"
   ]
  },
  {
   "cell_type": "code",
   "execution_count": 9,
   "metadata": {},
   "outputs": [
    {
     "data": {
      "text/html": [
       "<div>\n",
       "<style scoped>\n",
       "    .dataframe tbody tr th:only-of-type {\n",
       "        vertical-align: middle;\n",
       "    }\n",
       "\n",
       "    .dataframe tbody tr th {\n",
       "        vertical-align: top;\n",
       "    }\n",
       "\n",
       "    .dataframe thead th {\n",
       "        text-align: right;\n",
       "    }\n",
       "</style>\n",
       "<table border=\"1\" class=\"dataframe\">\n",
       "  <thead>\n",
       "    <tr style=\"text-align: right;\">\n",
       "      <th></th>\n",
       "      <th>tweet</th>\n",
       "      <th>clean</th>\n",
       "    </tr>\n",
       "  </thead>\n",
       "  <tbody>\n",
       "    <tr>\n",
       "      <th>0</th>\n",
       "      <td>@LA40669826 @AgnesBun @AFP Yes I believe so! H...</td>\n",
       "      <td>Yes I believe so! Have a good brother! Love...</td>\n",
       "    </tr>\n",
       "    <tr>\n",
       "      <th>1</th>\n",
       "      <td>@CocoaMochaCrml I hate Blue Bloods!</td>\n",
       "      <td>I hate Blue Bloods!</td>\n",
       "    </tr>\n",
       "    <tr>\n",
       "      <th>2</th>\n",
       "      <td>RT @Aintshitjunior: i hate humans bro .. i sho...</td>\n",
       "      <td>i hate humans bro .. i shouldve been a bike o...</td>\n",
       "    </tr>\n",
       "    <tr>\n",
       "      <th>3</th>\n",
       "      <td>RT @Queenemmy20: Some Titans will be saying th...</td>\n",
       "      <td>Some Titans will be saying the hate is too mu...</td>\n",
       "    </tr>\n",
       "    <tr>\n",
       "      <th>4</th>\n",
       "      <td>@FreindTrey @MRMAN19981 @REVERSALx7 Blocked al...</td>\n",
       "      <td>Blocked also hate this guy</td>\n",
       "    </tr>\n",
       "  </tbody>\n",
       "</table>\n",
       "</div>"
      ],
      "text/plain": [
       "                                               tweet  \\\n",
       "0  @LA40669826 @AgnesBun @AFP Yes I believe so! H...   \n",
       "1                @CocoaMochaCrml I hate Blue Bloods!   \n",
       "2  RT @Aintshitjunior: i hate humans bro .. i sho...   \n",
       "3  RT @Queenemmy20: Some Titans will be saying th...   \n",
       "4  @FreindTrey @MRMAN19981 @REVERSALx7 Blocked al...   \n",
       "\n",
       "                                               clean  \n",
       "0     Yes I believe so! Have a good brother! Love...  \n",
       "1                                I hate Blue Bloods!  \n",
       "2   i hate humans bro .. i shouldve been a bike o...  \n",
       "3   Some Titans will be saying the hate is too mu...  \n",
       "4                        Blocked also hate this guy   "
      ]
     },
     "execution_count": 9,
     "metadata": {},
     "output_type": "execute_result"
    }
   ],
   "source": [
    "tweet_text.head()"
   ]
  },
  {
   "cell_type": "code",
   "execution_count": 10,
   "metadata": {},
   "outputs": [
    {
     "data": {
      "text/plain": [
       "0      [Yes, I, believe, so, !, Have, a, good, brothe...\n",
       "1                             [I, hate, Blue, Bloods, !]\n",
       "2      [i, hate, humans, bro, .., i, shouldve, been, ...\n",
       "3      [Some, Titans, will, be, saying, the, hate, is...\n",
       "4                       [Blocked, also, hate, this, guy]\n",
       "                             ...                        \n",
       "495    [Hate, to, be, the, bearer, of, reality, but, ...\n",
       "496    [DC, ’, s, mayor, doodling, the, words, black,...\n",
       "497    [Something, I, hate, about, these, Yoruba, wom...\n",
       "498    [white, people, be, like, “, bro, I, committed...\n",
       "499                [Hate, people, who, park, like, this]\n",
       "Name: clean, Length: 500, dtype: object"
      ]
     },
     "execution_count": 10,
     "metadata": {},
     "output_type": "execute_result"
    }
   ],
   "source": [
    "from nltk.tokenize import TweetTokenizer\n",
    "tt = TweetTokenizer()\n",
    "tweet_text['clean'].apply(tt.tokenize)"
   ]
  },
  {
   "cell_type": "code",
   "execution_count": 11,
   "metadata": {},
   "outputs": [],
   "source": [
    "info1=tweet_text['clean'].apply(tt.tokenize)"
   ]
  },
  {
   "cell_type": "code",
   "execution_count": 12,
   "metadata": {},
   "outputs": [
    {
     "data": {
      "text/html": [
       "<div>\n",
       "<style scoped>\n",
       "    .dataframe tbody tr th:only-of-type {\n",
       "        vertical-align: middle;\n",
       "    }\n",
       "\n",
       "    .dataframe tbody tr th {\n",
       "        vertical-align: top;\n",
       "    }\n",
       "\n",
       "    .dataframe thead th {\n",
       "        text-align: right;\n",
       "    }\n",
       "</style>\n",
       "<table border=\"1\" class=\"dataframe\">\n",
       "  <thead>\n",
       "    <tr style=\"text-align: right;\">\n",
       "      <th></th>\n",
       "      <th>clean</th>\n",
       "    </tr>\n",
       "  </thead>\n",
       "  <tbody>\n",
       "    <tr>\n",
       "      <th>0</th>\n",
       "      <td>[Yes, I, believe, so, !, Have, a, good, brothe...</td>\n",
       "    </tr>\n",
       "    <tr>\n",
       "      <th>1</th>\n",
       "      <td>[I, hate, Blue, Bloods, !]</td>\n",
       "    </tr>\n",
       "    <tr>\n",
       "      <th>2</th>\n",
       "      <td>[i, hate, humans, bro, .., i, shouldve, been, ...</td>\n",
       "    </tr>\n",
       "    <tr>\n",
       "      <th>3</th>\n",
       "      <td>[Some, Titans, will, be, saying, the, hate, is...</td>\n",
       "    </tr>\n",
       "    <tr>\n",
       "      <th>4</th>\n",
       "      <td>[Blocked, also, hate, this, guy]</td>\n",
       "    </tr>\n",
       "    <tr>\n",
       "      <th>...</th>\n",
       "      <td>...</td>\n",
       "    </tr>\n",
       "    <tr>\n",
       "      <th>495</th>\n",
       "      <td>[Hate, to, be, the, bearer, of, reality, but, ...</td>\n",
       "    </tr>\n",
       "    <tr>\n",
       "      <th>496</th>\n",
       "      <td>[DC, ’, s, mayor, doodling, the, words, black,...</td>\n",
       "    </tr>\n",
       "    <tr>\n",
       "      <th>497</th>\n",
       "      <td>[Something, I, hate, about, these, Yoruba, wom...</td>\n",
       "    </tr>\n",
       "    <tr>\n",
       "      <th>498</th>\n",
       "      <td>[white, people, be, like, “, bro, I, committed...</td>\n",
       "    </tr>\n",
       "    <tr>\n",
       "      <th>499</th>\n",
       "      <td>[Hate, people, who, park, like, this]</td>\n",
       "    </tr>\n",
       "  </tbody>\n",
       "</table>\n",
       "<p>500 rows × 1 columns</p>\n",
       "</div>"
      ],
      "text/plain": [
       "                                                 clean\n",
       "0    [Yes, I, believe, so, !, Have, a, good, brothe...\n",
       "1                           [I, hate, Blue, Bloods, !]\n",
       "2    [i, hate, humans, bro, .., i, shouldve, been, ...\n",
       "3    [Some, Titans, will, be, saying, the, hate, is...\n",
       "4                     [Blocked, also, hate, this, guy]\n",
       "..                                                 ...\n",
       "495  [Hate, to, be, the, bearer, of, reality, but, ...\n",
       "496  [DC, ’, s, mayor, doodling, the, words, black,...\n",
       "497  [Something, I, hate, about, these, Yoruba, wom...\n",
       "498  [white, people, be, like, “, bro, I, committed...\n",
       "499              [Hate, people, who, park, like, this]\n",
       "\n",
       "[500 rows x 1 columns]"
      ]
     },
     "execution_count": 12,
     "metadata": {},
     "output_type": "execute_result"
    }
   ],
   "source": [
    "df=pd.DataFrame(data=info1,columns=[\"clean\"])\n",
    "df"
   ]
  },
  {
   "cell_type": "code",
   "execution_count": 13,
   "metadata": {},
   "outputs": [],
   "source": [
    "from textblob import TextBlob"
   ]
  },
  {
   "cell_type": "code",
   "execution_count": 14,
   "metadata": {},
   "outputs": [],
   "source": [
    "from nltk.stem.wordnet import WordNetLemmatizer\n",
    "lemmatizing = WordNetLemmatizer()"
   ]
  },
  {
   "cell_type": "code",
   "execution_count": 15,
   "metadata": {},
   "outputs": [
    {
     "name": "stderr",
     "output_type": "stream",
     "text": [
      "[nltk_data] Downloading package wordnet to C:\\Users\\Neha\n",
      "[nltk_data]     Shinkre\\AppData\\Roaming\\nltk_data...\n",
      "[nltk_data]   Package wordnet is already up-to-date!\n"
     ]
    },
    {
     "data": {
      "text/plain": [
       "0    Yes I believe so ! Have a good brother ! Love ...\n",
       "1                                 I hate Blue Bloods !\n",
       "2    i hate human bro .. i shouldve been a bike or ...\n",
       "3    Some Titans will be saying the hate is too muc...\n",
       "4                           Blocked also hate this guy\n",
       "5    Roger Goodell is signing the death certificate...\n",
       "6    Liked your own tweet again . Only problematic ...\n",
       "7    #BrahminYes : I am a #Brahmin Guy and I am pro...\n",
       "8                       Hate people who park like this\n",
       "9          I hate feeling someone switching up on me 🤧\n",
       "Name: clean, dtype: object"
      ]
     },
     "execution_count": 15,
     "metadata": {},
     "output_type": "execute_result"
    }
   ],
   "source": [
    "nltk.download('wordnet')                                                                   #words to base form\n",
    "df['clean'] = df['clean'].apply(lambda x: ' '.join([lemmatizing.lemmatize(i) for i in x]))\n",
    "df['clean'].head(10)"
   ]
  },
  {
   "cell_type": "code",
   "execution_count": 23,
   "metadata": {},
   "outputs": [
    {
     "ename": "SyntaxError",
     "evalue": "unexpected EOF while parsing (<ipython-input-23-9a2f09a02f93>, line 10)",
     "output_type": "error",
     "traceback": [
      "\u001b[1;36m  File \u001b[1;32m\"<ipython-input-23-9a2f09a02f93>\"\u001b[1;36m, line \u001b[1;32m10\u001b[0m\n\u001b[1;33m    #print()\u001b[0m\n\u001b[1;37m            ^\u001b[0m\n\u001b[1;31mSyntaxError\u001b[0m\u001b[1;31m:\u001b[0m unexpected EOF while parsing\n"
     ]
    }
   ],
   "source": [
    "#from nltk.sentiment.vader import SentimentIntensityAnalyzer     #try\n",
    "\n",
    "#nltk.download('vader_lexicon')\n",
    "#sid = SentimentIntensityAnalyzer()\n",
    "#for sentence in tweet_text[\"clean\"]:\n",
    " #   print(sentence)\n",
    "  #  ss = sid.polarity_scores(sentence)\n",
    "   # for k in ss:\n",
    "        #print('{0}: {1}, '.format(k, ss[k]), end='') \n",
    "    #print()\n"
   ]
  },
  {
   "cell_type": "code",
   "execution_count": 24,
   "metadata": {},
   "outputs": [],
   "source": [
    "from textblob import TextBlob                                               #polarrity -:negative +:positive &subjectivity\n",
    "polarity = lambda x: TextBlob(x).sentiment.polarity\n",
    "subjectivity = lambda x: TextBlob(x).sentiment.subjectivity\n",
    "df['polarity'] = df['clean'].apply(polarity)\n",
    "df['subjectivity'] = df['clean'].apply(subjectivity)\n"
   ]
  },
  {
   "cell_type": "code",
   "execution_count": 18,
   "metadata": {},
   "outputs": [
    {
     "data": {
      "text/html": [
       "<div>\n",
       "<style scoped>\n",
       "    .dataframe tbody tr th:only-of-type {\n",
       "        vertical-align: middle;\n",
       "    }\n",
       "\n",
       "    .dataframe tbody tr th {\n",
       "        vertical-align: top;\n",
       "    }\n",
       "\n",
       "    .dataframe thead th {\n",
       "        text-align: right;\n",
       "    }\n",
       "</style>\n",
       "<table border=\"1\" class=\"dataframe\">\n",
       "  <thead>\n",
       "    <tr style=\"text-align: right;\">\n",
       "      <th></th>\n",
       "      <th>clean</th>\n",
       "      <th>polarity</th>\n",
       "      <th>subjectivity</th>\n",
       "    </tr>\n",
       "  </thead>\n",
       "  <tbody>\n",
       "    <tr>\n",
       "      <th>0</th>\n",
       "      <td>Yes I believe so ! Have a good brother ! Love ...</td>\n",
       "      <td>0.125000</td>\n",
       "      <td>0.700000</td>\n",
       "    </tr>\n",
       "    <tr>\n",
       "      <th>1</th>\n",
       "      <td>I hate Blue Bloods !</td>\n",
       "      <td>-0.400000</td>\n",
       "      <td>0.500000</td>\n",
       "    </tr>\n",
       "    <tr>\n",
       "      <th>2</th>\n",
       "      <td>i hate human bro .. i shouldve been a bike or ...</td>\n",
       "      <td>-0.333333</td>\n",
       "      <td>0.600000</td>\n",
       "    </tr>\n",
       "    <tr>\n",
       "      <th>3</th>\n",
       "      <td>Some Titans will be saying the hate is too muc...</td>\n",
       "      <td>-0.076667</td>\n",
       "      <td>0.571667</td>\n",
       "    </tr>\n",
       "    <tr>\n",
       "      <th>4</th>\n",
       "      <td>Blocked also hate this guy</td>\n",
       "      <td>-0.800000</td>\n",
       "      <td>0.900000</td>\n",
       "    </tr>\n",
       "    <tr>\n",
       "      <th>...</th>\n",
       "      <td>...</td>\n",
       "      <td>...</td>\n",
       "      <td>...</td>\n",
       "    </tr>\n",
       "    <tr>\n",
       "      <th>495</th>\n",
       "      <td>Hate to be the bearer of reality but unfortuna...</td>\n",
       "      <td>-0.233333</td>\n",
       "      <td>0.966667</td>\n",
       "    </tr>\n",
       "    <tr>\n",
       "      <th>496</th>\n",
       "      <td>DC ’ s mayor doodling the word black life matt...</td>\n",
       "      <td>-0.166667</td>\n",
       "      <td>0.433333</td>\n",
       "    </tr>\n",
       "    <tr>\n",
       "      <th>497</th>\n",
       "      <td>Something I hate about these Yoruba woman is t...</td>\n",
       "      <td>-0.700000</td>\n",
       "      <td>0.850000</td>\n",
       "    </tr>\n",
       "    <tr>\n",
       "      <th>498</th>\n",
       "      <td>white people be like “ bro I committed that ha...</td>\n",
       "      <td>-0.400000</td>\n",
       "      <td>0.450000</td>\n",
       "    </tr>\n",
       "    <tr>\n",
       "      <th>499</th>\n",
       "      <td>Hate people who park like this</td>\n",
       "      <td>-0.800000</td>\n",
       "      <td>0.900000</td>\n",
       "    </tr>\n",
       "  </tbody>\n",
       "</table>\n",
       "<p>500 rows × 3 columns</p>\n",
       "</div>"
      ],
      "text/plain": [
       "                                                 clean  polarity  subjectivity\n",
       "0    Yes I believe so ! Have a good brother ! Love ...  0.125000      0.700000\n",
       "1                                 I hate Blue Bloods ! -0.400000      0.500000\n",
       "2    i hate human bro .. i shouldve been a bike or ... -0.333333      0.600000\n",
       "3    Some Titans will be saying the hate is too muc... -0.076667      0.571667\n",
       "4                           Blocked also hate this guy -0.800000      0.900000\n",
       "..                                                 ...       ...           ...\n",
       "495  Hate to be the bearer of reality but unfortuna... -0.233333      0.966667\n",
       "496  DC ’ s mayor doodling the word black life matt... -0.166667      0.433333\n",
       "497  Something I hate about these Yoruba woman is t... -0.700000      0.850000\n",
       "498  white people be like “ bro I committed that ha... -0.400000      0.450000\n",
       "499                     Hate people who park like this -0.800000      0.900000\n",
       "\n",
       "[500 rows x 3 columns]"
      ]
     },
     "execution_count": 18,
     "metadata": {},
     "output_type": "execute_result"
    }
   ],
   "source": [
    "df\n"
   ]
  },
  {
   "cell_type": "code",
   "execution_count": 19,
   "metadata": {},
   "outputs": [],
   "source": [
    "def ratio(x):                                                              #0 neutral 1:pos -1:neg\n",
    " if x > 0:\n",
    "   return 1\n",
    " elif x == 0:\n",
    "   return 0\n",
    " else:\n",
    "   return -1\n",
    "df['result'] = df['polarity'].apply(ratio)"
   ]
  },
  {
   "cell_type": "code",
   "execution_count": 20,
   "metadata": {},
   "outputs": [
    {
     "data": {
      "text/html": [
       "<div>\n",
       "<style scoped>\n",
       "    .dataframe tbody tr th:only-of-type {\n",
       "        vertical-align: middle;\n",
       "    }\n",
       "\n",
       "    .dataframe tbody tr th {\n",
       "        vertical-align: top;\n",
       "    }\n",
       "\n",
       "    .dataframe thead th {\n",
       "        text-align: right;\n",
       "    }\n",
       "</style>\n",
       "<table border=\"1\" class=\"dataframe\">\n",
       "  <thead>\n",
       "    <tr style=\"text-align: right;\">\n",
       "      <th></th>\n",
       "      <th>clean</th>\n",
       "      <th>polarity</th>\n",
       "      <th>subjectivity</th>\n",
       "      <th>result</th>\n",
       "    </tr>\n",
       "  </thead>\n",
       "  <tbody>\n",
       "    <tr>\n",
       "      <th>0</th>\n",
       "      <td>Yes I believe so ! Have a good brother ! Love ...</td>\n",
       "      <td>0.125000</td>\n",
       "      <td>0.700000</td>\n",
       "      <td>1</td>\n",
       "    </tr>\n",
       "    <tr>\n",
       "      <th>1</th>\n",
       "      <td>I hate Blue Bloods !</td>\n",
       "      <td>-0.400000</td>\n",
       "      <td>0.500000</td>\n",
       "      <td>-1</td>\n",
       "    </tr>\n",
       "    <tr>\n",
       "      <th>2</th>\n",
       "      <td>i hate human bro .. i shouldve been a bike or ...</td>\n",
       "      <td>-0.333333</td>\n",
       "      <td>0.600000</td>\n",
       "      <td>-1</td>\n",
       "    </tr>\n",
       "    <tr>\n",
       "      <th>3</th>\n",
       "      <td>Some Titans will be saying the hate is too muc...</td>\n",
       "      <td>-0.076667</td>\n",
       "      <td>0.571667</td>\n",
       "      <td>-1</td>\n",
       "    </tr>\n",
       "    <tr>\n",
       "      <th>4</th>\n",
       "      <td>Blocked also hate this guy</td>\n",
       "      <td>-0.800000</td>\n",
       "      <td>0.900000</td>\n",
       "      <td>-1</td>\n",
       "    </tr>\n",
       "  </tbody>\n",
       "</table>\n",
       "</div>"
      ],
      "text/plain": [
       "                                               clean  polarity  subjectivity  \\\n",
       "0  Yes I believe so ! Have a good brother ! Love ...  0.125000      0.700000   \n",
       "1                               I hate Blue Bloods ! -0.400000      0.500000   \n",
       "2  i hate human bro .. i shouldve been a bike or ... -0.333333      0.600000   \n",
       "3  Some Titans will be saying the hate is too muc... -0.076667      0.571667   \n",
       "4                         Blocked also hate this guy -0.800000      0.900000   \n",
       "\n",
       "   result  \n",
       "0       1  \n",
       "1      -1  \n",
       "2      -1  \n",
       "3      -1  \n",
       "4      -1  "
      ]
     },
     "execution_count": 20,
     "metadata": {},
     "output_type": "execute_result"
    }
   ],
   "source": [
    "df.head()"
   ]
  },
  {
   "cell_type": "code",
   "execution_count": 21,
   "metadata": {},
   "outputs": [
    {
     "data": {
      "image/png": "[encoded data removed]",
      "text/plain": [
       "<Figure size 432x288 with 1 Axes>"
      ]
     },
     "metadata": {
      "needs_background": "light"
     },
     "output_type": "display_data"
    }
   ],
   "source": [
    "df['result'].value_counts().plot(kind = 'bar')\n",
    "plt.show()"
   ]
  },
  {
   "cell_type": "code",
   "execution_count": 22,
   "metadata": {},
   "outputs": [],
   "source": [
    "#0:neither 1:non-toxic -1:toxic(negative tweets)"
   ]
  }
 ],
 "metadata": {
  "kernelspec": {
   "display_name": "Python 3",
   "language": "python",
   "name": "python3"
  },
  "language_info": {
   "codemirror_mode": {
    "name": "ipython",
    "version": 3
   },
   "file_extension": ".py",
   "mimetype": "text/x-python",
   "name": "python",
   "nbconvert_exporter": "python",
   "pygments_lexer": "ipython3",
   "version": "3.8.3"
  }
 },
 "nbformat": 4,
 "nbformat_minor": 4
}
