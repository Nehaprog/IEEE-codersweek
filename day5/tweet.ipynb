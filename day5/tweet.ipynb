{
 "cells": [
  {
   "cell_type": "code",
   "execution_count": 1,
   "metadata": {},
   "outputs": [],
   "source": [
    "import os\n",
    "import tweepy as tw\n",
    "import pandas as pd\n",
    "import numpy as np\n",
    "import matplotlib.pyplot as plt"
   ]
  },
  {
   "cell_type": "markdown",
   "metadata": {},
   "source": [
    "scrapping"
   ]
  },
  {
   "cell_type": "code",
   "execution_count": 2,
   "metadata": {},
   "outputs": [],
   "source": [
    "consumer_key = \"H1HAPkY6BsUBotSMtizThA7NP\" \n",
    "consumer_secret = \"6HMb84I01d4vCa9h7BpPtU79z3sk0vYVZfPH8R9ZjUjpGje8QJ\"\n",
    "access_key = \"1269208732174626817-5Hfcb4CTMzVRJsSTa3cRtJm7ovC3Td\"\n",
    "access_secret = \"xDLhzGKiVG3YWyvz8E5Rz6nChnC6XtpbotJoN8ftwVV4Q\""
   ]
  },
  {
   "cell_type": "code",
   "execution_count": 3,
   "metadata": {},
   "outputs": [],
   "source": [
    "auth = tw.OAuthHandler(consumer_key, consumer_secret)\n",
    "auth.set_access_token(access_key, access_secret)\n",
    "api = tw.API(auth, wait_on_rate_limit=True)\n",
    "\n",
    "\n"
   ]
  },
  {
   "cell_type": "code",
   "execution_count": 4,
   "metadata": {},
   "outputs": [
    {
     "name": "stdout",
     "output_type": "stream",
     "text": [
      "RT @Aintshitjunior: i hate humans bro .. i shouldve been a bike or some shit\n",
      "RT @Aintshitjunior: i hate humans bro .. i shouldve been a bike or some shit\n",
      "I'm starting to hate wishes.\n",
      "RT @Aintshitjunior: i hate humans bro .. i shouldve been a bike or some shit\n",
      "RT @sopheanordin: Honestly I prefer not to be around people when I’m not in the mood, because I hate the fact that I can’t control my words…\n",
      "RT @DearSplenda: why don't all the conservatives who hate unions also hate police unions\n",
      "RT @1luv95: I hate being shy like this shit be embarassing sometimes https://t.co/jIlrsvTFgv\n",
      "RT @icecube: Over half of the U.S. Senate doesn’t think this is a Hate Crime. Guess which half? https://t.co/hbLZC6IoNT\n",
      "RT @wafilahh: hate the sin, not the sinner. look at the advice, not the adviser.\n",
      "RT @localblackgirl: i hate this. it screams “i’m allowed to fetishize black men because i’m out here supporting them” 😐\n"
     ]
    }
   ],
   "source": [
    "tweets = tw.Cursor(api.search,\n",
    "              q=\"hate\",\n",
    "              lang=\"en\",\n",
    "              since=\"2020-05-1\").items(10)\n",
    "\n",
    "\n",
    "for tweet in tweets:\n",
    "    print(tweet.text)\n",
    "  \n",
    "    \n",
    "    "
   ]
  },
  {
   "cell_type": "code",
   "execution_count": 5,
   "metadata": {},
   "outputs": [
    {
     "data": {
      "text/html": [
       "<div>\n",
       "<style scoped>\n",
       "    .dataframe tbody tr th:only-of-type {\n",
       "        vertical-align: middle;\n",
       "    }\n",
       "\n",
       "    .dataframe tbody tr th {\n",
       "        vertical-align: top;\n",
       "    }\n",
       "\n",
       "    .dataframe thead th {\n",
       "        text-align: right;\n",
       "    }\n",
       "</style>\n",
       "<table border=\"1\" class=\"dataframe\">\n",
       "  <thead>\n",
       "    <tr style=\"text-align: right;\">\n",
       "      <th></th>\n",
       "      <th>tweet</th>\n",
       "    </tr>\n",
       "  </thead>\n",
       "  <tbody>\n",
       "    <tr>\n",
       "      <th>0</th>\n",
       "      <td>RT @Aintshitjunior: i hate humans bro .. i sho...</td>\n",
       "    </tr>\n",
       "    <tr>\n",
       "      <th>1</th>\n",
       "      <td>RT @Aintshitjunior: i hate humans bro .. i sho...</td>\n",
       "    </tr>\n",
       "    <tr>\n",
       "      <th>2</th>\n",
       "      <td>I'm starting to hate wishes.</td>\n",
       "    </tr>\n",
       "    <tr>\n",
       "      <th>3</th>\n",
       "      <td>RT @Aintshitjunior: i hate humans bro .. i sho...</td>\n",
       "    </tr>\n",
       "    <tr>\n",
       "      <th>4</th>\n",
       "      <td>RT @sopheanordin: Honestly I prefer not to be ...</td>\n",
       "    </tr>\n",
       "    <tr>\n",
       "      <th>...</th>\n",
       "      <td>...</td>\n",
       "    </tr>\n",
       "    <tr>\n",
       "      <th>495</th>\n",
       "      <td>RT @ThatTimWalker: Let’s never forget what a m...</td>\n",
       "    </tr>\n",
       "    <tr>\n",
       "      <th>496</th>\n",
       "      <td>RT @icecube: Over half of the U.S. Senate does...</td>\n",
       "    </tr>\n",
       "    <tr>\n",
       "      <th>497</th>\n",
       "      <td>RT @Aintshitjunior: i hate humans bro .. i sho...</td>\n",
       "    </tr>\n",
       "    <tr>\n",
       "      <th>498</th>\n",
       "      <td>kalat content ⚠️⚠️⚠️ xjdhshshs because i fucki...</td>\n",
       "    </tr>\n",
       "    <tr>\n",
       "      <th>499</th>\n",
       "      <td>spread luv not hate</td>\n",
       "    </tr>\n",
       "  </tbody>\n",
       "</table>\n",
       "<p>500 rows × 1 columns</p>\n",
       "</div>"
      ],
      "text/plain": [
       "                                                 tweet\n",
       "0    RT @Aintshitjunior: i hate humans bro .. i sho...\n",
       "1    RT @Aintshitjunior: i hate humans bro .. i sho...\n",
       "2                         I'm starting to hate wishes.\n",
       "3    RT @Aintshitjunior: i hate humans bro .. i sho...\n",
       "4    RT @sopheanordin: Honestly I prefer not to be ...\n",
       "..                                                 ...\n",
       "495  RT @ThatTimWalker: Let’s never forget what a m...\n",
       "496  RT @icecube: Over half of the U.S. Senate does...\n",
       "497  RT @Aintshitjunior: i hate humans bro .. i sho...\n",
       "498  kalat content ⚠️⚠️⚠️ xjdhshshs because i fucki...\n",
       "499                                spread luv not hate\n",
       "\n",
       "[500 rows x 1 columns]"
      ]
     },
     "execution_count": 5,
     "metadata": {},
     "output_type": "execute_result"
    }
   ],
   "source": [
    "tweets = tw.Cursor(api.search,\n",
    "              q=\"hate\",\n",
    "              lang=\"en\",\n",
    "              since=\"2020-05-1\").items(500)\n",
    "info = [[tweet.text] for tweet in tweets]\n",
    "\n",
    "tweet_text = pd.DataFrame(data=info, \n",
    "                    columns=[\"tweet\"])\n",
    "tweet_text"
   ]
  },
  {
   "cell_type": "code",
   "execution_count": 6,
   "metadata": {},
   "outputs": [],
   "source": [
    "import re\n",
    "import nltk"
   ]
  },
  {
   "cell_type": "markdown",
   "metadata": {},
   "source": [
    "cleaning text"
   ]
  },
  {
   "cell_type": "code",
   "execution_count": 7,
   "metadata": {},
   "outputs": [],
   "source": [
    "def remove(input_txt, pattern):                                          \n",
    "    r = re.findall(pattern, input_txt)\n",
    "    for i in r:\n",
    "        input_txt = re.sub(i, '', input_txt)        \n",
    "    return input_txt\n",
    "def clean_tweets(lst):\n",
    "    lst = np.vectorize(remove)(lst, \"\\r\")                                  \n",
    "    lst = np.vectorize(remove)(lst, \"\\n\")\n",
    "    lst = np.vectorize(remove)(lst, \"RT @[\\w]*:\")                        \n",
    "    lst = np.vectorize(remove)(lst, \"@[\\w]*\")                             \n",
    "    lst = np.vectorize(remove)(lst, \"https?://[A-Za-z0-9./]*\")           \n",
    "    return lst"
   ]
  },
  {
   "cell_type": "code",
   "execution_count": 8,
   "metadata": {},
   "outputs": [],
   "source": [
    "tweet_text['clean']= clean_tweets(tweet_text['tweet'])   #Cleaned Tweets are kept in separate coloumn clean"
   ]
  },
  {
   "cell_type": "code",
   "execution_count": 9,
   "metadata": {},
   "outputs": [
    {
     "data": {
      "text/html": [
       "<div>\n",
       "<style scoped>\n",
       "    .dataframe tbody tr th:only-of-type {\n",
       "        vertical-align: middle;\n",
       "    }\n",
       "\n",
       "    .dataframe tbody tr th {\n",
       "        vertical-align: top;\n",
       "    }\n",
       "\n",
       "    .dataframe thead th {\n",
       "        text-align: right;\n",
       "    }\n",
       "</style>\n",
       "<table border=\"1\" class=\"dataframe\">\n",
       "  <thead>\n",
       "    <tr style=\"text-align: right;\">\n",
       "      <th></th>\n",
       "      <th>tweet</th>\n",
       "      <th>clean</th>\n",
       "    </tr>\n",
       "  </thead>\n",
       "  <tbody>\n",
       "    <tr>\n",
       "      <th>0</th>\n",
       "      <td>RT @Aintshitjunior: i hate humans bro .. i sho...</td>\n",
       "      <td>i hate humans bro .. i shouldve been a bike o...</td>\n",
       "    </tr>\n",
       "    <tr>\n",
       "      <th>1</th>\n",
       "      <td>RT @Aintshitjunior: i hate humans bro .. i sho...</td>\n",
       "      <td>i hate humans bro .. i shouldve been a bike o...</td>\n",
       "    </tr>\n",
       "    <tr>\n",
       "      <th>2</th>\n",
       "      <td>I'm starting to hate wishes.</td>\n",
       "      <td>I'm starting to hate wishes.</td>\n",
       "    </tr>\n",
       "    <tr>\n",
       "      <th>3</th>\n",
       "      <td>RT @Aintshitjunior: i hate humans bro .. i sho...</td>\n",
       "      <td>i hate humans bro .. i shouldve been a bike o...</td>\n",
       "    </tr>\n",
       "    <tr>\n",
       "      <th>4</th>\n",
       "      <td>RT @sopheanordin: Honestly I prefer not to be ...</td>\n",
       "      <td>Honestly I prefer not to be around people whe...</td>\n",
       "    </tr>\n",
       "  </tbody>\n",
       "</table>\n",
       "</div>"
      ],
      "text/plain": [
       "                                               tweet  \\\n",
       "0  RT @Aintshitjunior: i hate humans bro .. i sho...   \n",
       "1  RT @Aintshitjunior: i hate humans bro .. i sho...   \n",
       "2                       I'm starting to hate wishes.   \n",
       "3  RT @Aintshitjunior: i hate humans bro .. i sho...   \n",
       "4  RT @sopheanordin: Honestly I prefer not to be ...   \n",
       "\n",
       "                                               clean  \n",
       "0   i hate humans bro .. i shouldve been a bike o...  \n",
       "1   i hate humans bro .. i shouldve been a bike o...  \n",
       "2                       I'm starting to hate wishes.  \n",
       "3   i hate humans bro .. i shouldve been a bike o...  \n",
       "4   Honestly I prefer not to be around people whe...  "
      ]
     },
     "execution_count": 9,
     "metadata": {},
     "output_type": "execute_result"
    }
   ],
   "source": [
    "tweet_text.head()"
   ]
  },
  {
   "cell_type": "code",
   "execution_count": 10,
   "metadata": {},
   "outputs": [
    {
     "data": {
      "text/plain": [
       "0      [i, hate, humans, bro, .., i, shouldve, been, ...\n",
       "1      [i, hate, humans, bro, .., i, shouldve, been, ...\n",
       "2                   [I'm, starting, to, hate, wishes, .]\n",
       "3      [i, hate, humans, bro, .., i, shouldve, been, ...\n",
       "4      [Honestly, I, prefer, not, to, be, around, peo...\n",
       "                             ...                        \n",
       "495    [Let, ’, s, never, forget, what, a, miserable,...\n",
       "496    [Over, half, of, the, U, ., S, ., Senate, does...\n",
       "497    [i, hate, humans, bro, .., i, shouldve, been, ...\n",
       "498    [kalat, content, ⚠, ️, ⚠, ️, ⚠, ️, xjdhshshs, ...\n",
       "499                             [spread, luv, not, hate]\n",
       "Name: clean, Length: 500, dtype: object"
      ]
     },
     "execution_count": 10,
     "metadata": {},
     "output_type": "execute_result"
    }
   ],
   "source": [
    "from nltk.tokenize import TweetTokenizer\n",
    "tt = TweetTokenizer()\n",
    "tweet_text['clean'].apply(tt.tokenize)"
   ]
  },
  {
   "cell_type": "code",
   "execution_count": 11,
   "metadata": {},
   "outputs": [],
   "source": [
    "info1=tweet_text['clean'].apply(tt.tokenize)"
   ]
  },
  {
   "cell_type": "code",
   "execution_count": 12,
   "metadata": {},
   "outputs": [
    {
     "data": {
      "text/html": [
       "<div>\n",
       "<style scoped>\n",
       "    .dataframe tbody tr th:only-of-type {\n",
       "        vertical-align: middle;\n",
       "    }\n",
       "\n",
       "    .dataframe tbody tr th {\n",
       "        vertical-align: top;\n",
       "    }\n",
       "\n",
       "    .dataframe thead th {\n",
       "        text-align: right;\n",
       "    }\n",
       "</style>\n",
       "<table border=\"1\" class=\"dataframe\">\n",
       "  <thead>\n",
       "    <tr style=\"text-align: right;\">\n",
       "      <th></th>\n",
       "      <th>clean</th>\n",
       "    </tr>\n",
       "  </thead>\n",
       "  <tbody>\n",
       "    <tr>\n",
       "      <th>0</th>\n",
       "      <td>[i, hate, humans, bro, .., i, shouldve, been, ...</td>\n",
       "    </tr>\n",
       "    <tr>\n",
       "      <th>1</th>\n",
       "      <td>[i, hate, humans, bro, .., i, shouldve, been, ...</td>\n",
       "    </tr>\n",
       "    <tr>\n",
       "      <th>2</th>\n",
       "      <td>[I'm, starting, to, hate, wishes, .]</td>\n",
       "    </tr>\n",
       "    <tr>\n",
       "      <th>3</th>\n",
       "      <td>[i, hate, humans, bro, .., i, shouldve, been, ...</td>\n",
       "    </tr>\n",
       "    <tr>\n",
       "      <th>4</th>\n",
       "      <td>[Honestly, I, prefer, not, to, be, around, peo...</td>\n",
       "    </tr>\n",
       "    <tr>\n",
       "      <th>...</th>\n",
       "      <td>...</td>\n",
       "    </tr>\n",
       "    <tr>\n",
       "      <th>495</th>\n",
       "      <td>[Let, ’, s, never, forget, what, a, miserable,...</td>\n",
       "    </tr>\n",
       "    <tr>\n",
       "      <th>496</th>\n",
       "      <td>[Over, half, of, the, U, ., S, ., Senate, does...</td>\n",
       "    </tr>\n",
       "    <tr>\n",
       "      <th>497</th>\n",
       "      <td>[i, hate, humans, bro, .., i, shouldve, been, ...</td>\n",
       "    </tr>\n",
       "    <tr>\n",
       "      <th>498</th>\n",
       "      <td>[kalat, content, ⚠, ️, ⚠, ️, ⚠, ️, xjdhshshs, ...</td>\n",
       "    </tr>\n",
       "    <tr>\n",
       "      <th>499</th>\n",
       "      <td>[spread, luv, not, hate]</td>\n",
       "    </tr>\n",
       "  </tbody>\n",
       "</table>\n",
       "<p>500 rows × 1 columns</p>\n",
       "</div>"
      ],
      "text/plain": [
       "                                                 clean\n",
       "0    [i, hate, humans, bro, .., i, shouldve, been, ...\n",
       "1    [i, hate, humans, bro, .., i, shouldve, been, ...\n",
       "2                 [I'm, starting, to, hate, wishes, .]\n",
       "3    [i, hate, humans, bro, .., i, shouldve, been, ...\n",
       "4    [Honestly, I, prefer, not, to, be, around, peo...\n",
       "..                                                 ...\n",
       "495  [Let, ’, s, never, forget, what, a, miserable,...\n",
       "496  [Over, half, of, the, U, ., S, ., Senate, does...\n",
       "497  [i, hate, humans, bro, .., i, shouldve, been, ...\n",
       "498  [kalat, content, ⚠, ️, ⚠, ️, ⚠, ️, xjdhshshs, ...\n",
       "499                           [spread, luv, not, hate]\n",
       "\n",
       "[500 rows x 1 columns]"
      ]
     },
     "execution_count": 12,
     "metadata": {},
     "output_type": "execute_result"
    }
   ],
   "source": [
    "df=pd.DataFrame(data=info1,columns=[\"clean\"])\n",
    "df"
   ]
  },
  {
   "cell_type": "code",
   "execution_count": 13,
   "metadata": {},
   "outputs": [],
   "source": [
    "from textblob import TextBlob"
   ]
  },
  {
   "cell_type": "code",
   "execution_count": 14,
   "metadata": {},
   "outputs": [],
   "source": [
    "from nltk.stem.wordnet import WordNetLemmatizer\n",
    "lemmatizing = WordNetLemmatizer()"
   ]
  },
  {
   "cell_type": "code",
   "execution_count": 15,
   "metadata": {},
   "outputs": [
    {
     "name": "stderr",
     "output_type": "stream",
     "text": [
      "[nltk_data] Downloading package wordnet to C:\\Users\\Neha\n",
      "[nltk_data]     Shinkre\\AppData\\Roaming\\nltk_data...\n",
      "[nltk_data]   Package wordnet is already up-to-date!\n"
     ]
    },
    {
     "data": {
      "text/plain": [
       "0    i hate human bro .. i shouldve been a bike or ...\n",
       "1    i hate human bro .. i shouldve been a bike or ...\n",
       "2                          I'm starting to hate wish .\n",
       "3    i hate human bro .. i shouldve been a bike or ...\n",
       "4    Honestly I prefer not to be around people when...\n",
       "5    why don't all the conservative who hate union ...\n",
       "6    I hate being shy like this shit be embarassing...\n",
       "7    Over half of the U . S . Senate doesn ’ t thin...\n",
       "8    hate the sin , not the sinner . look at the ad...\n",
       "9    i hate this . it scream “ i ’ m allowed to fet...\n",
       "Name: clean, dtype: object"
      ]
     },
     "execution_count": 15,
     "metadata": {},
     "output_type": "execute_result"
    }
   ],
   "source": [
    "nltk.download('wordnet')                                                                   #words to base form\n",
    "df['clean'] = df['clean'].apply(lambda x: ' '.join([lemmatizing.lemmatize(i) for i in x]))\n",
    "df['clean'].head(10)"
   ]
  },
  {
   "cell_type": "code",
   "execution_count": 16,
   "metadata": {},
   "outputs": [],
   "source": [
    "#from nltk.sentiment.vader import SentimentIntensityAnalyzer     #try\n",
    "\n",
    "#nltk.download('vader_lexicon')\n",
    "#sid = SentimentIntensityAnalyzer()\n",
    "#for sentence in tweet_text[\"clean\"]:\n",
    " #   print(sentence)\n",
    "  #  ss = sid.polarity_scores(sentence)\n",
    "   # for k in ss:\n",
    "        #print('{0}: {1}, '.format(k, ss[k]), end='') \n",
    "    #print()\n"
   ]
  },
  {
   "cell_type": "code",
   "execution_count": 17,
   "metadata": {},
   "outputs": [],
   "source": [
    "from textblob import TextBlob                                               #polarrity -:negative +:positive &subjectivity\n",
    "polarity = lambda x: TextBlob(x).sentiment.polarity\n",
    "subjectivity = lambda x: TextBlob(x).sentiment.subjectivity\n",
    "df['polarity'] = df['clean'].apply(polarity)\n",
    "df['subjectivity'] = df['clean'].apply(subjectivity)\n"
   ]
  },
  {
   "cell_type": "code",
   "execution_count": 18,
   "metadata": {},
   "outputs": [
    {
     "data": {
      "text/html": [
       "<div>\n",
       "<style scoped>\n",
       "    .dataframe tbody tr th:only-of-type {\n",
       "        vertical-align: middle;\n",
       "    }\n",
       "\n",
       "    .dataframe tbody tr th {\n",
       "        vertical-align: top;\n",
       "    }\n",
       "\n",
       "    .dataframe thead th {\n",
       "        text-align: right;\n",
       "    }\n",
       "</style>\n",
       "<table border=\"1\" class=\"dataframe\">\n",
       "  <thead>\n",
       "    <tr style=\"text-align: right;\">\n",
       "      <th></th>\n",
       "      <th>clean</th>\n",
       "      <th>polarity</th>\n",
       "      <th>subjectivity</th>\n",
       "    </tr>\n",
       "  </thead>\n",
       "  <tbody>\n",
       "    <tr>\n",
       "      <th>0</th>\n",
       "      <td>i hate human bro .. i shouldve been a bike or ...</td>\n",
       "      <td>-0.333333</td>\n",
       "      <td>0.600000</td>\n",
       "    </tr>\n",
       "    <tr>\n",
       "      <th>1</th>\n",
       "      <td>i hate human bro .. i shouldve been a bike or ...</td>\n",
       "      <td>-0.333333</td>\n",
       "      <td>0.600000</td>\n",
       "    </tr>\n",
       "    <tr>\n",
       "      <th>2</th>\n",
       "      <td>I'm starting to hate wish .</td>\n",
       "      <td>-0.400000</td>\n",
       "      <td>0.500000</td>\n",
       "    </tr>\n",
       "    <tr>\n",
       "      <th>3</th>\n",
       "      <td>i hate human bro .. i shouldve been a bike or ...</td>\n",
       "      <td>-0.333333</td>\n",
       "      <td>0.600000</td>\n",
       "    </tr>\n",
       "    <tr>\n",
       "      <th>4</th>\n",
       "      <td>Honestly I prefer not to be around people when...</td>\n",
       "      <td>-0.100000</td>\n",
       "      <td>0.900000</td>\n",
       "    </tr>\n",
       "    <tr>\n",
       "      <th>...</th>\n",
       "      <td>...</td>\n",
       "      <td>...</td>\n",
       "      <td>...</td>\n",
       "    </tr>\n",
       "    <tr>\n",
       "      <th>495</th>\n",
       "      <td>Let ’ s never forget what a miserable hate-fil...</td>\n",
       "      <td>-1.000000</td>\n",
       "      <td>1.000000</td>\n",
       "    </tr>\n",
       "    <tr>\n",
       "      <th>496</th>\n",
       "      <td>Over half of the U . S . Senate doesn ’ t thin...</td>\n",
       "      <td>-0.377778</td>\n",
       "      <td>0.411111</td>\n",
       "    </tr>\n",
       "    <tr>\n",
       "      <th>497</th>\n",
       "      <td>i hate human bro .. i shouldve been a bike or ...</td>\n",
       "      <td>-0.333333</td>\n",
       "      <td>0.600000</td>\n",
       "    </tr>\n",
       "    <tr>\n",
       "      <th>498</th>\n",
       "      <td>kalat content ⚠ ️ ⚠ ️ ⚠ ️ xjdhshshs because i ...</td>\n",
       "      <td>-0.441667</td>\n",
       "      <td>0.658333</td>\n",
       "    </tr>\n",
       "    <tr>\n",
       "      <th>499</th>\n",
       "      <td>spread luv not hate</td>\n",
       "      <td>0.400000</td>\n",
       "      <td>0.900000</td>\n",
       "    </tr>\n",
       "  </tbody>\n",
       "</table>\n",
       "<p>500 rows × 3 columns</p>\n",
       "</div>"
      ],
      "text/plain": [
       "                                                 clean  polarity  subjectivity\n",
       "0    i hate human bro .. i shouldve been a bike or ... -0.333333      0.600000\n",
       "1    i hate human bro .. i shouldve been a bike or ... -0.333333      0.600000\n",
       "2                          I'm starting to hate wish . -0.400000      0.500000\n",
       "3    i hate human bro .. i shouldve been a bike or ... -0.333333      0.600000\n",
       "4    Honestly I prefer not to be around people when... -0.100000      0.900000\n",
       "..                                                 ...       ...           ...\n",
       "495  Let ’ s never forget what a miserable hate-fil... -1.000000      1.000000\n",
       "496  Over half of the U . S . Senate doesn ’ t thin... -0.377778      0.411111\n",
       "497  i hate human bro .. i shouldve been a bike or ... -0.333333      0.600000\n",
       "498  kalat content ⚠ ️ ⚠ ️ ⚠ ️ xjdhshshs because i ... -0.441667      0.658333\n",
       "499                                spread luv not hate  0.400000      0.900000\n",
       "\n",
       "[500 rows x 3 columns]"
      ]
     },
     "execution_count": 18,
     "metadata": {},
     "output_type": "execute_result"
    }
   ],
   "source": [
    "df\n"
   ]
  },
  {
   "cell_type": "code",
   "execution_count": 19,
   "metadata": {},
   "outputs": [],
   "source": [
    "def ratio(x):                                                              #0 neutral 1:pos -1:neg\n",
    " if x > 0:\n",
    "   return 1\n",
    " elif x == 0:\n",
    "   return 0\n",
    " else:\n",
    "   return -1\n",
    "df['result'] = df['polarity'].apply(ratio)"
   ]
  },
  {
   "cell_type": "code",
   "execution_count": 20,
   "metadata": {},
   "outputs": [
    {
     "data": {
      "text/html": [
       "<div>\n",
       "<style scoped>\n",
       "    .dataframe tbody tr th:only-of-type {\n",
       "        vertical-align: middle;\n",
       "    }\n",
       "\n",
       "    .dataframe tbody tr th {\n",
       "        vertical-align: top;\n",
       "    }\n",
       "\n",
       "    .dataframe thead th {\n",
       "        text-align: right;\n",
       "    }\n",
       "</style>\n",
       "<table border=\"1\" class=\"dataframe\">\n",
       "  <thead>\n",
       "    <tr style=\"text-align: right;\">\n",
       "      <th></th>\n",
       "      <th>clean</th>\n",
       "      <th>polarity</th>\n",
       "      <th>subjectivity</th>\n",
       "      <th>result</th>\n",
       "    </tr>\n",
       "  </thead>\n",
       "  <tbody>\n",
       "    <tr>\n",
       "      <th>0</th>\n",
       "      <td>i hate human bro .. i shouldve been a bike or ...</td>\n",
       "      <td>-0.333333</td>\n",
       "      <td>0.6</td>\n",
       "      <td>-1</td>\n",
       "    </tr>\n",
       "    <tr>\n",
       "      <th>1</th>\n",
       "      <td>i hate human bro .. i shouldve been a bike or ...</td>\n",
       "      <td>-0.333333</td>\n",
       "      <td>0.6</td>\n",
       "      <td>-1</td>\n",
       "    </tr>\n",
       "    <tr>\n",
       "      <th>2</th>\n",
       "      <td>I'm starting to hate wish .</td>\n",
       "      <td>-0.400000</td>\n",
       "      <td>0.5</td>\n",
       "      <td>-1</td>\n",
       "    </tr>\n",
       "    <tr>\n",
       "      <th>3</th>\n",
       "      <td>i hate human bro .. i shouldve been a bike or ...</td>\n",
       "      <td>-0.333333</td>\n",
       "      <td>0.6</td>\n",
       "      <td>-1</td>\n",
       "    </tr>\n",
       "    <tr>\n",
       "      <th>4</th>\n",
       "      <td>Honestly I prefer not to be around people when...</td>\n",
       "      <td>-0.100000</td>\n",
       "      <td>0.9</td>\n",
       "      <td>-1</td>\n",
       "    </tr>\n",
       "  </tbody>\n",
       "</table>\n",
       "</div>"
      ],
      "text/plain": [
       "                                               clean  polarity  subjectivity  \\\n",
       "0  i hate human bro .. i shouldve been a bike or ... -0.333333           0.6   \n",
       "1  i hate human bro .. i shouldve been a bike or ... -0.333333           0.6   \n",
       "2                        I'm starting to hate wish . -0.400000           0.5   \n",
       "3  i hate human bro .. i shouldve been a bike or ... -0.333333           0.6   \n",
       "4  Honestly I prefer not to be around people when... -0.100000           0.9   \n",
       "\n",
       "   result  \n",
       "0      -1  \n",
       "1      -1  \n",
       "2      -1  \n",
       "3      -1  \n",
       "4      -1  "
      ]
     },
     "execution_count": 20,
     "metadata": {},
     "output_type": "execute_result"
    }
   ],
   "source": [
    "df.head()"
   ]
  },
  {
   "cell_type": "code",
   "execution_count": 21,
   "metadata": {},
   "outputs": [
    {
     "data": {
      "image/png": "[encoded data removed]",
      "text/plain": [
       "<Figure size 432x288 with 1 Axes>"
      ]
     },
     "metadata": {
      "needs_background": "light"
     },
     "output_type": "display_data"
    }
   ],
   "source": [
    "df['result'].value_counts().plot(kind = 'bar')\n",
    "plt.show()"
   ]
  },
  {
   "cell_type": "code",
   "execution_count": 22,
   "metadata": {},
   "outputs": [],
   "source": [
    "#0:neither 1:non-toxic -1:toxic(negative tweets)"
   ]
  }
 ],
 "metadata": {
  "kernelspec": {
   "display_name": "Python 3",
   "language": "python",
   "name": "python3"
  },
  "language_info": {
   "codemirror_mode": {
    "name": "ipython",
    "version": 3
   },
   "file_extension": ".py",
   "mimetype": "text/x-python",
   "name": "python",
   "nbconvert_exporter": "python",
   "pygments_lexer": "ipython3",
   "version": "3.8.3"
  }
 },
 "nbformat": 4,
 "nbformat_minor": 4
}
