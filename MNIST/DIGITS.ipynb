{
  "nbformat": 4,
  "nbformat_minor": 0,
  "metadata": {
    "colab": {
      "name": "DIGITS.ipynb",
      "provenance": [],
      "collapsed_sections": []
    },
    "kernelspec": {
      "name": "python3",
      "display_name": "Python 3"
    }
  },
  "cells": [
    {
      "cell_type": "markdown",
      "metadata": {
        "id": "bjiEeqtAReAM",
        "colab_type": "text"
      },
      "source": [
        "**GETTING** **DATA**"
      ]
    },
    {
      "cell_type": "code",
      "metadata": {
        "id": "ttfc9G7XRdUL",
        "colab_type": "code",
        "colab": {}
      },
      "source": [
        "from sklearn import datasets\n",
        "from sklearn.datasets import fetch_openml"
      ],
      "execution_count": 0,
      "outputs": []
    },
    {
      "cell_type": "code",
      "metadata": {
        "id": "WAo8DuZkRuyf",
        "colab_type": "code",
        "colab": {}
      },
      "source": [
        "mnist=fetch_openml('mnist_784')"
      ],
      "execution_count": 0,
      "outputs": []
    },
    {
      "cell_type": "code",
      "metadata": {
        "id": "O1kkC_pYSdxs",
        "colab_type": "code",
        "colab": {}
      },
      "source": [
        "X,Y=mnist['data'],mnist['target']"
      ],
      "execution_count": 0,
      "outputs": []
    },
    {
      "cell_type": "code",
      "metadata": {
        "id": "iwnKNOp5Ssie",
        "colab_type": "code",
        "colab": {}
      },
      "source": [
        "#X[0] #1d numpy array .inorder to see img we need to convert it to 28*28"
      ],
      "execution_count": 0,
      "outputs": []
    },
    {
      "cell_type": "code",
      "metadata": {
        "id": "bTSAkkE6TFKG",
        "colab_type": "code",
        "outputId": "48f56bf3-7846-4577-c791-a6c258d852bc",
        "colab": {
          "base_uri": "https://localhost:8080/",
          "height": 34
        }
      },
      "source": [
        "X.shape  #784 features bec 28*28 picxels"
      ],
      "execution_count": 0,
      "outputs": [
        {
          "output_type": "execute_result",
          "data": {
            "text/plain": [
              "(70000, 784)"
            ]
          },
          "metadata": {
            "tags": []
          },
          "execution_count": 30
        }
      ]
    },
    {
      "cell_type": "code",
      "metadata": {
        "id": "P9ReSGaHTdf1",
        "colab_type": "code",
        "outputId": "878c7fcb-5072-4c22-eb49-e6ee71a8eb40",
        "colab": {
          "base_uri": "https://localhost:8080/",
          "height": 282
        }
      },
      "source": [
        "%matplotlib inline\n",
        "import matplotlib\n",
        "import matplotlib.pyplot as plt\n",
        "certain_digit=X[18]\n",
        "certain_digit_img=certain_digit.reshape(28,28) #need to reshape to get the plot of image\n",
        "plt.imshow(certain_digit_img,interpolation=\"nearest\")"
      ],
      "execution_count": 0,
      "outputs": [
        {
          "output_type": "execute_result",
          "data": {
            "text/plain": [
              "<matplotlib.image.AxesImage at 0x7f86db116ac8>"
            ]
          },
          "metadata": {
            "tags": []
          },
          "execution_count": 31
        },
        {
          "output_type": "display_data",
          "data": {
            "image/png": "[encoded data removed]",
            "text/plain": [
              "<Figure size 432x288 with 1 Axes>"
            ]
          },
          "metadata": {
            "tags": [],
            "needs_background": "light"
          }
        }
      ]
    },
    {
      "cell_type": "code",
      "metadata": {
        "id": "wRyQIYyYUq5Z",
        "colab_type": "code",
        "outputId": "baca3d8f-e7c8-4455-ae0c-c04d66f14f3c",
        "colab": {
          "base_uri": "https://localhost:8080/",
          "height": 34
        }
      },
      "source": [
        "Y[18]"
      ],
      "execution_count": 0,
      "outputs": [
        {
          "output_type": "execute_result",
          "data": {
            "text/plain": [
              "'6'"
            ]
          },
          "metadata": {
            "tags": []
          },
          "execution_count": 32
        }
      ]
    },
    {
      "cell_type": "code",
      "metadata": {
        "id": "WuZqzExnVe__",
        "colab_type": "code",
        "colab": {}
      },
      "source": [
        "X_train,X_test=X[:60000],X[60000:]   #dataset is split into train n test \n",
        "Y_train,Y_test=Y[:60000],Y[60000:]"
      ],
      "execution_count": 0,
      "outputs": []
    },
    {
      "cell_type": "code",
      "metadata": {
        "id": "Uy6RZvypWBWR",
        "colab_type": "code",
        "colab": {}
      },
      "source": [
        "import numpy as np\n",
        "shuffle_index=np.random.permutation(60000)\n",
        "X_train,Y_train=X_train[shuffle_index],Y_train[shuffle_index]"
      ],
      "execution_count": 0,
      "outputs": []
    },
    {
      "cell_type": "code",
      "metadata": {
        "id": "iB1deS2ZrBK7",
        "colab_type": "code",
        "colab": {}
      },
      "source": [
        "#normalising\n",
        "\n",
        "X_train = X_train / 255\n",
        "X_test = X_test / 255"
      ],
      "execution_count": 0,
      "outputs": []
    },
    {
      "cell_type": "markdown",
      "metadata": {
        "id": "fC3WbPiPaq2s",
        "colab_type": "text"
      },
      "source": [
        "**ENCODING**"
      ]
    },
    {
      "cell_type": "code",
      "metadata": {
        "id": "4g8QntmRpq_j",
        "colab_type": "code",
        "outputId": "517bdce1-144c-442e-aabf-02fd663cbb84",
        "colab": {
          "base_uri": "https://localhost:8080/",
          "height": 34
        }
      },
      "source": [
        "from keras.utils import to_categorical\n",
        "num_classes = 10                                    #0 to 9  so num_classes is 10  #encoding: ex. 4=0000100000\n",
        "train_labels_en = to_categorical(Y_train,num_classes)\n",
        "test_labels_en = to_categorical(Y_test,num_classes)\n",
        "train_labels_en.shape, test_labels_en.shape"
      ],
      "execution_count": 0,
      "outputs": [
        {
          "output_type": "execute_result",
          "data": {
            "text/plain": [
              "((60000, 10), (10000, 10))"
            ]
          },
          "metadata": {
            "tags": []
          },
          "execution_count": 44
        }
      ]
    },
    {
      "cell_type": "markdown",
      "metadata": {
        "id": "M2DSUFjW6FL9",
        "colab_type": "text"
      },
      "source": [
        "**creating the ann**"
      ]
    },
    {
      "cell_type": "code",
      "metadata": {
        "id": "aJ661Gu44FZ6",
        "colab_type": "code",
        "colab": {}
      },
      "source": [
        "from keras.models import Sequential #ANN Architecture\n",
        "from keras.layers import Dense #layers in ANN\n"
      ],
      "execution_count": 0,
      "outputs": []
    },
    {
      "cell_type": "code",
      "metadata": {
        "id": "RfqgqMp44eGz",
        "colab_type": "code",
        "colab": {}
      },
      "source": [
        "model=Sequential()\n",
        "model.add(Dense(64,activation='relu',input_dim=784))\n",
        "model.add(Dense(64,activation='relu'))\n",
        "model.add(Dense(10,activation='softmax'))"
      ],
      "execution_count": 0,
      "outputs": []
    },
    {
      "cell_type": "code",
      "metadata": {
        "id": "ZXWUzusd5MQS",
        "colab_type": "code",
        "colab": {}
      },
      "source": [
        "#loss function to measure working of model than improves with optimizer\n",
        "model.compile(\n",
        "    optimizer='adam',loss='categorical_crossentropy',metrics=['accuracy']\n",
        ")"
      ],
      "execution_count": 0,
      "outputs": []
    },
    {
      "cell_type": "code",
      "metadata": {
        "id": "6YPtzNzg78wT",
        "colab_type": "code",
        "outputId": "2108497d-1b35-4565-aa87-aff4c2a6d333",
        "colab": {
          "base_uri": "https://localhost:8080/",
          "height": 235
        }
      },
      "source": [
        "#training\n",
        "model.fit(X_train,train_labels_en,epochs=6,batch_size=30)          #ie. 6 itterations over entire dataset and 30 samples per  gradient update"
      ],
      "execution_count": 0,
      "outputs": [
        {
          "output_type": "stream",
          "text": [
            "Epoch 1/6\n",
            "60000/60000 [==============================] - 3s 58us/step - loss: 0.2729 - accuracy: 0.9191\n",
            "Epoch 2/6\n",
            "60000/60000 [==============================] - 3s 53us/step - loss: 0.1200 - accuracy: 0.9641\n",
            "Epoch 3/6\n",
            "60000/60000 [==============================] - 3s 55us/step - loss: 0.0888 - accuracy: 0.9730\n",
            "Epoch 4/6\n",
            "60000/60000 [==============================] - 3s 53us/step - loss: 0.0696 - accuracy: 0.9787\n",
            "Epoch 5/6\n",
            "60000/60000 [==============================] - 3s 54us/step - loss: 0.0574 - accuracy: 0.9818\n",
            "Epoch 6/6\n",
            "60000/60000 [==============================] - 3s 56us/step - loss: 0.0479 - accuracy: 0.9844\n"
          ],
          "name": "stdout"
        },
        {
          "output_type": "execute_result",
          "data": {
            "text/plain": [
              "<keras.callbacks.callbacks.History at 0x7f86db0a2898>"
            ]
          },
          "metadata": {
            "tags": []
          },
          "execution_count": 48
        }
      ]
    },
    {
      "cell_type": "code",
      "metadata": {
        "id": "-kQJt7fQ1XkH",
        "colab_type": "code",
        "outputId": "7a3bae85-516e-4fd7-8660-87032a666798",
        "colab": {
          "base_uri": "https://localhost:8080/",
          "height": 50
        }
      },
      "source": [
        "#Evaluate the model\n",
        "model.evaluate(X_test,test_labels_en)"
      ],
      "execution_count": 0,
      "outputs": [
        {
          "output_type": "stream",
          "text": [
            "10000/10000 [==============================] - 0s 27us/step\n"
          ],
          "name": "stdout"
        },
        {
          "output_type": "execute_result",
          "data": {
            "text/plain": [
              "[0.10282958955916692, 0.9704999923706055]"
            ]
          },
          "metadata": {
            "tags": []
          },
          "execution_count": 49
        }
      ]
    },
    {
      "cell_type": "code",
      "metadata": {
        "id": "6QEDZDbG4K6A",
        "colab_type": "code",
        "outputId": "ff8b96bf-eddb-4575-d2fb-23b75bccb3d2",
        "colab": {
          "base_uri": "https://localhost:8080/",
          "height": 319
        }
      },
      "source": [
        "#predictions\n",
        "\n",
        "predictions=model.predict(X_test[2:8])\n",
        "print(predictions)            #in terms of probabilities"
      ],
      "execution_count": 0,
      "outputs": [
        {
          "output_type": "stream",
          "text": [
            "[[4.04601678e-06 9.98829901e-01 1.38152638e-04 1.29201493e-04\n",
            "  2.05715241e-05 6.86433623e-06 8.09257745e-06 1.61912089e-04\n",
            "  5.88145980e-04 1.13102615e-04]\n",
            " [9.99989986e-01 1.16521459e-09 4.47133380e-06 5.01488444e-07\n",
            "  1.28884536e-09 6.68934963e-10 1.82495990e-06 8.02198258e-07\n",
            "  1.97827532e-08 2.39560222e-06]\n",
            " [1.02450911e-04 3.13542046e-07 1.36992313e-07 2.44098053e-09\n",
            "  9.98322785e-01 9.64796953e-09 3.52065008e-08 5.77768014e-06\n",
            "  6.03603155e-07 1.56790251e-03]\n",
            " [7.25689091e-08 9.99949455e-01 2.04508851e-07 8.39958830e-07\n",
            "  2.39190058e-06 7.24231342e-09 2.95829783e-09 4.27353152e-05\n",
            "  2.05668584e-06 2.17718775e-06]\n",
            " [2.63852172e-07 7.75816829e-07 2.34788260e-07 5.72230476e-07\n",
            "  9.98783767e-01 5.41067436e-07 9.51310213e-08 6.73053137e-06\n",
            "  1.14798197e-03 5.90778582e-05]\n",
            " [8.74088388e-12 5.15378096e-09 3.90503081e-11 3.51025228e-05\n",
            "  2.65077324e-06 7.40996242e-08 6.22945153e-17 3.31915930e-06\n",
            "  1.97398387e-09 9.99958873e-01]]\n"
          ],
          "name": "stdout"
        }
      ]
    },
    {
      "cell_type": "code",
      "metadata": {
        "id": "YrsEyBp84ZID",
        "colab_type": "code",
        "outputId": "3e134f61-088d-40c0-d5b1-614d5eb65d31",
        "colab": {
          "base_uri": "https://localhost:8080/",
          "height": 50
        }
      },
      "source": [
        "#finding the actual no. predicted\n",
        "print(np.argmax(predictions,axis=1))\n",
        "#actual test labels\n",
        "print(Y_test[2:8])"
      ],
      "execution_count": 0,
      "outputs": [
        {
          "output_type": "stream",
          "text": [
            "[1 0 4 1 4 9]\n",
            "[1 0 4 1 4 9]\n"
          ],
          "name": "stdout"
        }
      ]
    },
    {
      "cell_type": "code",
      "metadata": {
        "id": "RjEH8RPxbMMs",
        "colab_type": "code",
        "colab": {}
      },
      "source": [
        ""
      ],
      "execution_count": 0,
      "outputs": []
    },
    {
      "cell_type": "markdown",
      "metadata": {
        "id": "MSRH_acAa6ob",
        "colab_type": "text"
      },
      "source": [
        ""
      ]
    },
    {
      "cell_type": "code",
      "metadata": {
        "id": "Vp7mY6Cnb8CE",
        "colab_type": "code",
        "colab": {}
      },
      "source": [
        ""
      ],
      "execution_count": 0,
      "outputs": []
    }
  ]
}